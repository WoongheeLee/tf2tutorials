{
 "cells": [
  {
   "cell_type": "markdown",
   "metadata": {},
   "source": [
    "# Numpy Operations"
   ]
  },
  {
   "cell_type": "markdown",
   "metadata": {},
   "source": [
    "이전에, numpy에서 텐서를 생성하는 것을 보았는데요, 그런데, 생성만 하고 연산을 하는 법을 아직 배우지 않았습니다. 이번 노트북에서는 텐서로 할 수 있는 연산에 대해 다루고자 합니다."
   ]
  },
  {
   "cell_type": "markdown",
   "metadata": {},
   "source": [
    "맨 먼저, numpy를 임포트하겠습니다."
   ]
  },
  {
   "cell_type": "code",
   "execution_count": 2,
   "metadata": {},
   "outputs": [],
   "source": [
    "import numpy as np"
   ]
  },
  {
   "cell_type": "markdown",
   "metadata": {},
   "source": [
    "## Numpy Operation"
   ]
  },
  {
   "cell_type": "markdown",
   "metadata": {},
   "source": [
    "우선 가장 간단하게 1차원의 벡터 두개를 생성해보겠습니다."
   ]
  },
  {
   "cell_type": "code",
   "execution_count": 3,
   "metadata": {},
   "outputs": [],
   "source": [
    "arr1 = np.array([1, 2, 3])\n",
    "arr2 = np.array([4, 5, 6])"
   ]
  },
  {
   "cell_type": "markdown",
   "metadata": {},
   "source": [
    "벡터 두개로 할 수 있는 연산이 뭐가 있을까요, 내적을 수행해 보겠습니다. numpy의 ``np.dot``함수는 두 벡터를 입력으로 받아서 내적을 수행합니다."
   ]
  },
  {
   "cell_type": "code",
   "execution_count": 4,
   "metadata": {},
   "outputs": [
    {
     "data": {
      "text/plain": [
       "32"
      ]
     },
     "execution_count": 4,
     "metadata": {},
     "output_type": "execute_result"
    }
   ],
   "source": [
    "np.dot(arr1, arr2)"
   ]
  },
  {
   "cell_type": "markdown",
   "metadata": {},
   "source": [
    "좀 더 많은 연산을 해보기 위해서 이번에는 행렬을 생성해 봅니다."
   ]
  },
  {
   "cell_type": "code",
   "execution_count": 5,
   "metadata": {},
   "outputs": [],
   "source": [
    "m1 = np.array([[1, 2, 3],\n",
    "               [4, 5, 6]])\n",
    "\n",
    "m2 = np.array([[0.1, 0.2, 0.3],\n",
    "               [0.4, 0.5, 0.6]])"
   ]
  },
  {
   "cell_type": "markdown",
   "metadata": {},
   "source": [
    "이 두개의 행렬의 차원을 먼저 출력해보겠습니다."
   ]
  },
  {
   "cell_type": "code",
   "execution_count": 7,
   "metadata": {},
   "outputs": [
    {
     "name": "stdout",
     "output_type": "stream",
     "text": [
      "Shape of m1: (2, 3)\n",
      "Shape of m2: (2, 3)\n"
     ]
    }
   ],
   "source": [
    "print(f\"Shape of m1: {m1.shape}\")\n",
    "print(f\"Shape of m2: {m2.shape}\")"
   ]
  },
  {
   "cell_type": "markdown",
   "metadata": {},
   "source": [
    "행렬 두개가 있으니, 행렬을 더하고, 빼는 연산이 가능합니다."
   ]
  },
  {
   "cell_type": "code",
   "execution_count": 8,
   "metadata": {},
   "outputs": [
    {
     "data": {
      "text/plain": [
       "array([[1.1, 2.2, 3.3],\n",
       "       [4.4, 5.5, 6.6]])"
      ]
     },
     "execution_count": 8,
     "metadata": {},
     "output_type": "execute_result"
    }
   ],
   "source": [
    "m1 + m2"
   ]
  },
  {
   "cell_type": "code",
   "execution_count": 9,
   "metadata": {},
   "outputs": [
    {
     "data": {
      "text/plain": [
       "array([[0.9, 1.8, 2.7],\n",
       "       [3.6, 4.5, 5.4]])"
      ]
     },
     "execution_count": 9,
     "metadata": {},
     "output_type": "execute_result"
    }
   ],
   "source": [
    "m1 - m2"
   ]
  },
  {
   "cell_type": "markdown",
   "metadata": {},
   "source": [
    "행렬의 덧셈과 뺄셈은 element-wise로 계산됩니다. 직관적으로 그게 맞겠죠? 그런데 다음처럼 곱하거나 나누어도 element-wise로 계산되죠."
   ]
  },
  {
   "cell_type": "code",
   "execution_count": 10,
   "metadata": {},
   "outputs": [
    {
     "data": {
      "text/plain": [
       "array([[0.1, 0.4, 0.9],\n",
       "       [1.6, 2.5, 3.6]])"
      ]
     },
     "execution_count": 10,
     "metadata": {},
     "output_type": "execute_result"
    }
   ],
   "source": [
    "m1 * m2"
   ]
  },
  {
   "cell_type": "code",
   "execution_count": 11,
   "metadata": {},
   "outputs": [
    {
     "data": {
      "text/plain": [
       "array([[10., 10., 10.],\n",
       "       [10., 10., 10.]])"
      ]
     },
     "execution_count": 11,
     "metadata": {},
     "output_type": "execute_result"
    }
   ],
   "source": [
    "m1 / m2"
   ]
  },
  {
   "cell_type": "markdown",
   "metadata": {},
   "source": [
    "이건 우리의 직관과 맞지 않을수도 있습니다. 행렬간의 곱은... 첫번째 행렬의 행과.. 두번째 행렬의 열을 내적해서... 뭐 그렇게 해야되지 않나요? 하지만, numpy에서 행렬간에 \\* 연산자를 이용해 곱하고 \\/ 연산자를 이용해 나누는 것은 element-wise로 연산을 수행하게 됩니다."
   ]
  },
  {
   "cell_type": "markdown",
   "metadata": {},
   "source": [
    "우리가 아는 행렬곱은 다음처럼 계산합니다."
   ]
  },
  {
   "cell_type": "code",
   "execution_count": 12,
   "metadata": {},
   "outputs": [
    {
     "data": {
      "text/plain": [
       "array([[1.4, 3.2],\n",
       "       [3.2, 7.7]])"
      ]
     },
     "execution_count": 12,
     "metadata": {},
     "output_type": "execute_result"
    }
   ],
   "source": [
    "m3 = np.matmul(m1, m2.T)\n",
    "m3"
   ]
  },
  {
   "cell_type": "markdown",
   "metadata": {},
   "source": [
    "이때, ``m2.T``는 ``m2``의 transpose를 반환하는 attribute입니다. $(2, 3)$ 행렬인 ``m1``에 곱해주려면, $(2, 3)$ 행렬 ``m2``를 전치시켜야 되겠죠?"
   ]
  },
  {
   "cell_type": "markdown",
   "metadata": {},
   "source": [
    "모두가 예상하는 것처럼 행렬곱 결과의 차원은 $(2, 2)$입니다."
   ]
  },
  {
   "cell_type": "code",
   "execution_count": 13,
   "metadata": {},
   "outputs": [
    {
     "data": {
      "text/plain": [
       "(2, 2)"
      ]
     },
     "execution_count": 13,
     "metadata": {},
     "output_type": "execute_result"
    }
   ],
   "source": [
    "m3.shape"
   ]
  },
  {
   "cell_type": "markdown",
   "metadata": {},
   "source": [
    "우리는 지금 numpy가 지원하는 연산중에서 두 가지 타입을 보았습니다.\n",
    "- element-wise operations\n",
    "- vectorized operations\n",
    "\n",
    "element-wise operation은 +, -와 같이 element-by-element로 연산하는 것으로, 두 피연산자가 같은 차원이어야 합니다(예외가 있긴한데, 나중에 보겠습니다). \n",
    "같은 차원이어야 각 element가 자기와 연산할 짝이 생기겠죠?\n",
    "\n",
    "vectorized operation은 matrix multiplication와 같은 연산을 말합니다. 아니, 어떻게보면, matrix multiplication이 vectorized operation의 전부이며 핵심이라고 볼 수 있습니다. 그러므로, vectorized operation == matrix multiplication이라고 생각해도 크게 어려움은 없을 수도 있습니다."
   ]
  },
  {
   "cell_type": "markdown",
   "metadata": {},
   "source": [
    "## Element-wise Operations"
   ]
  },
  {
   "cell_type": "markdown",
   "metadata": {},
   "source": [
    "일단, numpy는 기본적인 사칙연산 연산자를 모두 element-wise 연산으로 취급한다는 것을 보았습니다. 얘네는 numpy 함수로도 모두 대응되는 애들이 있습니다."
   ]
  },
  {
   "cell_type": "markdown",
   "metadata": {},
   "source": [
    "다음은 +와 동일합니다."
   ]
  },
  {
   "cell_type": "code",
   "execution_count": 16,
   "metadata": {},
   "outputs": [
    {
     "data": {
      "text/plain": [
       "array([[1.1, 2.2, 3.3],\n",
       "       [4.4, 5.5, 6.6]])"
      ]
     },
     "execution_count": 16,
     "metadata": {},
     "output_type": "execute_result"
    }
   ],
   "source": [
    "np.add(m1, m2) # same as m1 + m2"
   ]
  },
  {
   "cell_type": "markdown",
   "metadata": {},
   "source": [
    "다음은 -와 동일합니다."
   ]
  },
  {
   "cell_type": "code",
   "execution_count": 17,
   "metadata": {},
   "outputs": [
    {
     "data": {
      "text/plain": [
       "array([[0.9, 1.8, 2.7],\n",
       "       [3.6, 4.5, 5.4]])"
      ]
     },
     "execution_count": 17,
     "metadata": {},
     "output_type": "execute_result"
    }
   ],
   "source": [
    "np.subtract(m1, m2) # same as m1 - m2"
   ]
  },
  {
   "cell_type": "markdown",
   "metadata": {},
   "source": [
    "다음은 \\*와 동일합니다."
   ]
  },
  {
   "cell_type": "code",
   "execution_count": 14,
   "metadata": {},
   "outputs": [
    {
     "data": {
      "text/plain": [
       "array([[0.1, 0.4, 0.9],\n",
       "       [1.6, 2.5, 3.6]])"
      ]
     },
     "execution_count": 14,
     "metadata": {},
     "output_type": "execute_result"
    }
   ],
   "source": [
    "np.multiply(m1, m2) # same as m1 * m2"
   ]
  },
  {
   "cell_type": "markdown",
   "metadata": {},
   "source": [
    "다음은 \\/와 동일합니다."
   ]
  },
  {
   "cell_type": "code",
   "execution_count": 15,
   "metadata": {},
   "outputs": [
    {
     "data": {
      "text/plain": [
       "array([[10., 10., 10.],\n",
       "       [10., 10., 10.]])"
      ]
     },
     "execution_count": 15,
     "metadata": {},
     "output_type": "execute_result"
    }
   ],
   "source": [
    "np.divide(m1, m2) # same as m1 / m2"
   ]
  },
  {
   "cell_type": "markdown",
   "metadata": {},
   "source": [
    "그리고, 다음과 같은 element-wise operation들도 있습니다.\n",
    "\n",
    "``np.exp``, ``np.log``, ``np.log10``, ``np.sin``, ``np.cos``, ``np.tan``, ..."
   ]
  },
  {
   "cell_type": "markdown",
   "metadata": {},
   "source": [
    "``np.exp``는 텐서 하나를 입력으로 받아서 모든 원소들에 대해 exp를 취해줍니다."
   ]
  },
  {
   "cell_type": "code",
   "execution_count": 18,
   "metadata": {},
   "outputs": [
    {
     "data": {
      "text/plain": [
       "array([[  2.71828183,   7.3890561 ,  20.08553692],\n",
       "       [ 54.59815003, 148.4131591 , 403.42879349]])"
      ]
     },
     "execution_count": 18,
     "metadata": {},
     "output_type": "execute_result"
    }
   ],
   "source": [
    "np.exp(m1)"
   ]
  },
  {
   "cell_type": "markdown",
   "metadata": {},
   "source": [
    "나머지 함수들도 마찬가지입니다. ``np.log``는 모든 원소들에 대해 log(자연로그임)를 취해줍니다."
   ]
  },
  {
   "cell_type": "code",
   "execution_count": 19,
   "metadata": {},
   "outputs": [
    {
     "data": {
      "text/plain": [
       "array([[0.        , 0.69314718, 1.09861229],\n",
       "       [1.38629436, 1.60943791, 1.79175947]])"
      ]
     },
     "execution_count": 19,
     "metadata": {},
     "output_type": "execute_result"
    }
   ],
   "source": [
    "np.log(m1)"
   ]
  },
  {
   "cell_type": "markdown",
   "metadata": {},
   "source": [
    "### Vectorized Operations"
   ]
  },
  {
   "cell_type": "markdown",
   "metadata": {},
   "source": [
    "아까 ``np.matmul``을 vectorized 연산이라고 소개했는데요, ``np.dot``도 vectorized 연산이며, 사실 이 두개는 거의 역할이 같습니다."
   ]
  },
  {
   "cell_type": "code",
   "execution_count": 24,
   "metadata": {},
   "outputs": [
    {
     "data": {
      "text/plain": [
       "array([[1.4, 3.2],\n",
       "       [3.2, 7.7]])"
      ]
     },
     "execution_count": 24,
     "metadata": {},
     "output_type": "execute_result"
    }
   ],
   "source": [
    "np.matmul(m1, m2.T)"
   ]
  },
  {
   "cell_type": "code",
   "execution_count": 25,
   "metadata": {},
   "outputs": [
    {
     "data": {
      "text/plain": [
       "array([[1.4, 3.2],\n",
       "       [3.2, 7.7]])"
      ]
     },
     "execution_count": 25,
     "metadata": {},
     "output_type": "execute_result"
    }
   ],
   "source": [
    "np.dot(m1, m2.T)"
   ]
  },
  {
   "cell_type": "markdown",
   "metadata": {},
   "source": [
    "dot product는 행렬에서의 행렬곱과 같습니다. 행렬곱을 1차원으로 내리면 dot product라고 부릅니다. 사실 두개는 같다고 해도 무방합니다."
   ]
  },
  {
   "cell_type": "markdown",
   "metadata": {},
   "source": [
    "Vectorized operation은 numpy의 핵심중 하나라고 볼 수 있으며, 다음과 같은 장점이 있습니다.\n",
    "\n",
    "1. 내부적으로 병렬 처리를 통해 매우 빠른 연산\n",
    "2. for문과 같은 루프를 없앨 수 있고, readability 향상\n",
    "\n",
    "다른.. 장점도 많을겁니다. 제가 생각나는게 지금 이거뿐이네요."
   ]
  },
  {
   "cell_type": "markdown",
   "metadata": {},
   "source": [
    "Vectorized operation은 내부적으로 병렬처리구 구현되어 있습니다. 행렬 연산을 예로 들면, 다음과 같은 행렬곱을 했다고 가정합니다."
   ]
  },
  {
   "cell_type": "code",
   "execution_count": 21,
   "metadata": {},
   "outputs": [
    {
     "data": {
      "text/plain": [
       "array([[1.4, 3.2],\n",
       "       [3.2, 7.7]])"
      ]
     },
     "execution_count": 21,
     "metadata": {},
     "output_type": "execute_result"
    }
   ],
   "source": [
    "m3 = np.matmul(m1, m2.T)\n",
    "m3"
   ]
  },
  {
   "cell_type": "markdown",
   "metadata": {},
   "source": [
    "이때, ``m3``의 각 원소는 모두 독립적이며, 각각 따로 계산될 수 있습니다. 즉, 병렬적으로 계산이 가능하다는 이야기입니다. 이것은 곧 속도에도 영향을 미치는데요, 실험하나를 해보겠습니다. 먼저, 엄청난 크기의 벡터 2개를 만들어보겠습니다."
   ]
  },
  {
   "cell_type": "code",
   "execution_count": 32,
   "metadata": {},
   "outputs": [
    {
     "name": "stdout",
     "output_type": "stream",
     "text": [
      "(10000000,) (10000000,)\n"
     ]
    }
   ],
   "source": [
    "mm1 = np.random.randn(10000000)\n",
    "mm2 = np.random.randn(10000000)\n",
    "\n",
    "print(mm1.shape, mm2.shape)"
   ]
  },
  {
   "cell_type": "markdown",
   "metadata": {},
   "source": [
    "이 두개를 내적할건데, 한번은 for문을 돌면서 내적을 할거고, 한번은 numpy의 vectorized 연산인 ``np.dot``을 사용할 겁니다. 연산시간을 측정하기 위해 time 모듈을 임포트하겠습니다."
   ]
  },
  {
   "cell_type": "code",
   "execution_count": 28,
   "metadata": {},
   "outputs": [],
   "source": [
    "from time import time"
   ]
  },
  {
   "cell_type": "markdown",
   "metadata": {},
   "source": [
    "이제 for문을 돌면서 내적을 계산하고 시간을 측정해 보겠습니다."
   ]
  },
  {
   "cell_type": "code",
   "execution_count": 35,
   "metadata": {},
   "outputs": [
    {
     "name": "stdout",
     "output_type": "stream",
     "text": [
      "Result: -2040.704477432415, time consumed: 5.511261940002441 sec\n"
     ]
    }
   ],
   "source": [
    "result = 0.0\n",
    "\n",
    "before_time = time()\n",
    "\n",
    "for i in range(10000000):\n",
    "    result += mm1[i] * mm2[i]\n",
    "    \n",
    "after_time = time()\n",
    "    \n",
    "print(f\"Result: {result}, time consumed: {after_time - before_time} sec\")"
   ]
  },
  {
   "cell_type": "markdown",
   "metadata": {},
   "source": [
    "네 5초 걸렸습니다. 다음은 vectorized operation인 dot product로 계산해보겠습니다."
   ]
  },
  {
   "cell_type": "code",
   "execution_count": 36,
   "metadata": {},
   "outputs": [
    {
     "name": "stdout",
     "output_type": "stream",
     "text": [
      "Result: -2040.7044774324568, time consumed: 0.049867868423461914 sec\n"
     ]
    }
   ],
   "source": [
    "result = 0.0\n",
    "\n",
    "before_time = time()\n",
    "\n",
    "result = np.dot(mm1, mm2)\n",
    "\n",
    "after_time = time()\n",
    "    \n",
    "print(f\"Result: {result}, time consumed: {after_time - before_time} sec\")"
   ]
  },
  {
   "cell_type": "markdown",
   "metadata": {},
   "source": [
    "비교가 안되게 빠른 것을 볼 수가 있네요."
   ]
  }
 ],
 "metadata": {
  "kernelspec": {
   "display_name": "Python 3",
   "language": "python",
   "name": "python3"
  },
  "language_info": {
   "codemirror_mode": {
    "name": "ipython",
    "version": 3
   },
   "file_extension": ".py",
   "mimetype": "text/x-python",
   "name": "python",
   "nbconvert_exporter": "python",
   "pygments_lexer": "ipython3",
   "version": "3.7.6"
  }
 },
 "nbformat": 4,
 "nbformat_minor": 4
}
