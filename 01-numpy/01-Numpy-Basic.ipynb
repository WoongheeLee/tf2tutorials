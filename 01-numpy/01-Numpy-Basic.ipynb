{
 "cells": [
  {
   "cell_type": "markdown",
   "metadata": {},
   "source": [
    "# Numpy Basic"
   ]
  },
  {
   "cell_type": "markdown",
   "metadata": {},
   "source": [
    "텐서플로를 쓰던, 케라스를 사용하던, 파이토치를 이용하던 간에, 넘파이가 제일 기초적이고 필수적입니다. 앞서 말한 세 개의 라이브러리에서의 텐서 연산 방식은 넘파이의 배열 연산 방식과 거의 같습니다. 따라서, 넘파이에 먼저 익숙해질 필요가 있습니다. 이 노트북은 넘파이의 기초를 설명합니다."
   ]
  },
  {
   "cell_type": "markdown",
   "metadata": {},
   "source": [
    "우선 다음 코드로 numpy를 임포트합니다."
   ]
  },
  {
   "cell_type": "code",
   "execution_count": 1,
   "metadata": {},
   "outputs": [],
   "source": [
    "import numpy as np"
   ]
  },
  {
   "cell_type": "markdown",
   "metadata": {},
   "source": [
    "Numpy를 임포트할때는 보통 np로 별칭을 붙이는게 개발자 사이에서 내려오는(?) 관습입니다."
   ]
  },
  {
   "cell_type": "markdown",
   "metadata": {},
   "source": [
    "## Numpy Arrays "
   ]
  },
  {
   "cell_type": "markdown",
   "metadata": {},
   "source": [
    "넘파이 배열은 행렬을 구성할때의 요소가 됩니다. 즉, 행렬은 2차원 넘파이 배열입니다. 마찬가지로, 고차원의 텐서는 고차원 넘파이 배열이죠. 텐서플로와 파이토치, 케라스에서의 고차원 텐서는 기본적으로 넘파이 배열을 내부에 저장하는 식으로 데이터를 저장합니다. 따라서 세 가지의 딥러닝 라이브러리는 넘파이 배열을 입력으로 받아서 자기들의 텐서 객체를 만들어내죠.\n",
    "\n",
    "우선, 넘파이 배열과 파이썬 기본 배열의 차이점을 보겠습니다. 다음은 기본 파이썬 배열입니다."
   ]
  },
  {
   "cell_type": "code",
   "execution_count": 4,
   "metadata": {},
   "outputs": [],
   "source": [
    "arr = [1, 2, 3]"
   ]
  },
  {
   "cell_type": "code",
   "execution_count": 5,
   "metadata": {},
   "outputs": [
    {
     "data": {
      "text/plain": [
       "[1, 2, 3]"
      ]
     },
     "execution_count": 5,
     "metadata": {},
     "output_type": "execute_result"
    }
   ],
   "source": [
    "arr"
   ]
  },
  {
   "cell_type": "markdown",
   "metadata": {},
   "source": [
    "다음은 파이썬 배열을 이용해 넘파이 배열을 생성한 것입니다."
   ]
  },
  {
   "cell_type": "code",
   "execution_count": 6,
   "metadata": {},
   "outputs": [],
   "source": [
    "np_arr = np.array(arr)"
   ]
  },
  {
   "cell_type": "code",
   "execution_count": 7,
   "metadata": {},
   "outputs": [
    {
     "data": {
      "text/plain": [
       "array([1, 2, 3])"
      ]
     },
     "execution_count": 7,
     "metadata": {},
     "output_type": "execute_result"
    }
   ],
   "source": [
    "np_arr"
   ]
  },
  {
   "cell_type": "markdown",
   "metadata": {},
   "source": [
    "다음처럼 파이썬 배열은 다양한 데이터 타입을 가질 수 있죠."
   ]
  },
  {
   "cell_type": "code",
   "execution_count": 8,
   "metadata": {},
   "outputs": [],
   "source": [
    "arr = [1, \"2\", 3.0]"
   ]
  },
  {
   "cell_type": "code",
   "execution_count": 9,
   "metadata": {},
   "outputs": [
    {
     "data": {
      "text/plain": [
       "[1, '2', 3.0]"
      ]
     },
     "execution_count": 9,
     "metadata": {},
     "output_type": "execute_result"
    }
   ],
   "source": [
    "arr"
   ]
  },
  {
   "cell_type": "markdown",
   "metadata": {},
   "source": [
    "하지만, 넘파이는?"
   ]
  },
  {
   "cell_type": "code",
   "execution_count": 10,
   "metadata": {},
   "outputs": [],
   "source": [
    "np_arr = np.array(arr)"
   ]
  },
  {
   "cell_type": "code",
   "execution_count": 11,
   "metadata": {},
   "outputs": [
    {
     "data": {
      "text/plain": [
       "array(['1', '2', '3.0'], dtype='<U21')"
      ]
     },
     "execution_count": 11,
     "metadata": {},
     "output_type": "execute_result"
    }
   ],
   "source": [
    "np_arr"
   ]
  },
  {
   "cell_type": "markdown",
   "metadata": {},
   "source": [
    "에러는 없는데, 모두 string으로 type 형변환이 일어나버렸네요. 넘파이 배열은 같은 데이터 타입만 가질 수 있기 때문입니다."
   ]
  },
  {
   "cell_type": "markdown",
   "metadata": {},
   "source": [
    "## Vectors"
   ]
  },
  {
   "cell_type": "markdown",
   "metadata": {},
   "source": [
    "Vector는 1차원 배열을 가리킨다고 볼 수 있습니다. Numpy에선 ``np.array``로 벡터를 생성할 수 있습니다. 다음과 같은 애들이 벡터가 됩니다."
   ]
  },
  {
   "cell_type": "code",
   "execution_count": 8,
   "metadata": {},
   "outputs": [
    {
     "data": {
      "text/plain": [
       "array([1, 2, 3])"
      ]
     },
     "execution_count": 8,
     "metadata": {},
     "output_type": "execute_result"
    }
   ],
   "source": [
    "a = np.array([1, 2, 3])\n",
    "a"
   ]
  },
  {
   "cell_type": "markdown",
   "metadata": {},
   "source": [
    "Numpy에서는 배열의 차원을 보는 방법을 제공하는데요, ``.shape`` attribute를 참조하면 됩니다. \n",
    "$a$의 차원을 보면 다음과 같이 1차원형태가 됩니다."
   ]
  },
  {
   "cell_type": "code",
   "execution_count": 9,
   "metadata": {},
   "outputs": [
    {
     "data": {
      "text/plain": [
       "(3,)"
      ]
     },
     "execution_count": 9,
     "metadata": {},
     "output_type": "execute_result"
    }
   ],
   "source": [
    "a.shape"
   ]
  },
  {
   "cell_type": "markdown",
   "metadata": {},
   "source": [
    "하지만, 다음과 같은 것들도 벡터라고 부르는데요, 2차원이지만, 하나의 차원이 1이기 때문이에요."
   ]
  },
  {
   "cell_type": "code",
   "execution_count": 10,
   "metadata": {},
   "outputs": [
    {
     "data": {
      "text/plain": [
       "array([[1, 2, 3]])"
      ]
     },
     "execution_count": 10,
     "metadata": {},
     "output_type": "execute_result"
    }
   ],
   "source": [
    "a = np.array([[1, 2, 3]])\n",
    "a"
   ]
  },
  {
   "cell_type": "code",
   "execution_count": 6,
   "metadata": {},
   "outputs": [
    {
     "data": {
      "text/plain": [
       "array([[2],\n",
       "       [3],\n",
       "       [4]])"
      ]
     },
     "execution_count": 6,
     "metadata": {},
     "output_type": "execute_result"
    }
   ],
   "source": [
    "b = np.array([[2], [3], [4]])\n",
    "b"
   ]
  },
  {
   "cell_type": "markdown",
   "metadata": {},
   "source": [
    "이때, $a$와 같은 벡터를 row vector(행벡터), $b$와 같은 벡터를 column vector(열벡터) 라고 부릅니다. row vector는 $(1, n)$ 모양의 차원을 갖게 되고, column vector는 $(n, 1)$ 모양의 차원을 갖게 됩니다."
   ]
  },
  {
   "cell_type": "code",
   "execution_count": 7,
   "metadata": {},
   "outputs": [
    {
     "name": "stdout",
     "output_type": "stream",
     "text": [
      "Shape of a: (1, 3)\n",
      "Shape of b: (3, 1)\n"
     ]
    }
   ],
   "source": [
    "print(f\"Shape of a: {a.shape}\")\n",
    "print(f\"Shape of b: {b.shape}\")"
   ]
  },
  {
   "cell_type": "markdown",
   "metadata": {},
   "source": [
    "또한, 일반화시켜서, 하나의 차원을 제외한 나머지 차원이 1이라면, 벡터라고 부를 수 있습니다. 예를들면, 다음은 길이 4의 **벡터**입니다."
   ]
  },
  {
   "cell_type": "code",
   "execution_count": 11,
   "metadata": {},
   "outputs": [
    {
     "data": {
      "text/plain": [
       "array([[[1],\n",
       "        [2],\n",
       "        [3],\n",
       "        [4]]])"
      ]
     },
     "execution_count": 11,
     "metadata": {},
     "output_type": "execute_result"
    }
   ],
   "source": [
    "c = np.array([[[1], [2], [3], [4]]])\n",
    "c"
   ]
  },
  {
   "cell_type": "code",
   "execution_count": 12,
   "metadata": {},
   "outputs": [
    {
     "data": {
      "text/plain": [
       "(1, 4, 1)"
      ]
     },
     "execution_count": 12,
     "metadata": {},
     "output_type": "execute_result"
    }
   ],
   "source": [
    "c.shape"
   ]
  },
  {
   "cell_type": "markdown",
   "metadata": {},
   "source": [
    "## Matrices"
   ]
  },
  {
   "cell_type": "markdown",
   "metadata": {},
   "source": [
    "행렬이란, 2차원 배열을 말합니다. 다음은 행렬이 됩니다. Numpy에서의 행렬 또한 np.array로 생성합니다!"
   ]
  },
  {
   "cell_type": "code",
   "execution_count": 13,
   "metadata": {},
   "outputs": [
    {
     "data": {
      "text/plain": [
       "array([[1, 2, 3],\n",
       "       [4, 5, 6]])"
      ]
     },
     "execution_count": 13,
     "metadata": {},
     "output_type": "execute_result"
    }
   ],
   "source": [
    "A = np.array([[1, 2, 3], [4, 5, 6]])\n",
    "A"
   ]
  },
  {
   "cell_type": "markdown",
   "metadata": {},
   "source": [
    "이 행렬의 차원은 $(2, 3)$이 되겠네요."
   ]
  },
  {
   "cell_type": "code",
   "execution_count": 14,
   "metadata": {},
   "outputs": [
    {
     "data": {
      "text/plain": [
       "(2, 3)"
      ]
     },
     "execution_count": 14,
     "metadata": {},
     "output_type": "execute_result"
    }
   ],
   "source": [
    "A.shape"
   ]
  },
  {
   "cell_type": "markdown",
   "metadata": {},
   "source": [
    "Numpy에는 여러가지 행렬을 생성할 수 있는 함수들을 제공하고 있습니다. 다음은 identity matrix를 생성합니다."
   ]
  },
  {
   "cell_type": "code",
   "execution_count": 16,
   "metadata": {},
   "outputs": [
    {
     "name": "stdout",
     "output_type": "stream",
     "text": [
      "[[1. 0. 0.]\n",
      " [0. 1. 0.]\n",
      " [0. 0. 1.]]\n",
      "Shape of I: (3, 3)\n"
     ]
    }
   ],
   "source": [
    "I = np.eye(3)\n",
    "print(I)\n",
    "print(f\"Shape of I: {I.shape}\")"
   ]
  },
  {
   "cell_type": "markdown",
   "metadata": {},
   "source": [
    "``np.eye()``의 인자로는 숫자 하나를 받는데요, 이 숫자는 행렬의 한 변의 길이가 됩니다. 예를들어, 4를 넣으면 4x4 identity matrix가 생성되죠."
   ]
  },
  {
   "cell_type": "code",
   "execution_count": 18,
   "metadata": {},
   "outputs": [
    {
     "data": {
      "text/plain": [
       "array([[1., 0., 0., 0.],\n",
       "       [0., 1., 0., 0.],\n",
       "       [0., 0., 1., 0.],\n",
       "       [0., 0., 0., 1.]])"
      ]
     },
     "execution_count": 18,
     "metadata": {},
     "output_type": "execute_result"
    }
   ],
   "source": [
    "I = np.eye(4)\n",
    "I"
   ]
  },
  {
   "cell_type": "markdown",
   "metadata": {},
   "source": [
    "나머지 생성 함수들은 tensors 파트에서 소개드리겠습니다."
   ]
  },
  {
   "cell_type": "markdown",
   "metadata": {},
   "source": [
    "## Tensors"
   ]
  },
  {
   "cell_type": "markdown",
   "metadata": {},
   "source": [
    "사실, 벡터와 행렬은 모두 텐서에 속합니다. 텐서는 모든 차원의 행렬을 의미합니다. 즉, 일반적인 차원의 배열입니다. 텐서는 3차원 이상의 배열로 한정해서 의미하기도 합니다. 예를들어, 다음은 3차원 텐서입니다."
   ]
  },
  {
   "cell_type": "code",
   "execution_count": 19,
   "metadata": {},
   "outputs": [
    {
     "data": {
      "text/plain": [
       "array([[[1, 2],\n",
       "        [3, 4]],\n",
       "\n",
       "       [[5, 6],\n",
       "        [7, 8]]])"
      ]
     },
     "execution_count": 19,
     "metadata": {},
     "output_type": "execute_result"
    }
   ],
   "source": [
    "T1 = np.array([[[1, 2], [3, 4]], [[5, 6], [7, 8]]])\n",
    "T1"
   ]
  },
  {
   "cell_type": "code",
   "execution_count": 20,
   "metadata": {},
   "outputs": [
    {
     "data": {
      "text/plain": [
       "(2, 2, 2)"
      ]
     },
     "execution_count": 20,
     "metadata": {},
     "output_type": "execute_result"
    }
   ],
   "source": [
    "T1.shape"
   ]
  },
  {
   "cell_type": "markdown",
   "metadata": {},
   "source": [
    "텐서는 어떤 차원의 배열을 모두 포함합니다. 4차원이든, $n$차원이든 모두 텐서라고 부릅니다."
   ]
  },
  {
   "cell_type": "markdown",
   "metadata": {},
   "source": [
    "## Tensor Construction Functions"
   ]
  },
  {
   "cell_type": "markdown",
   "metadata": {},
   "source": [
    "Numpy에서는 몇 가지 유용한 tensor 생성함수를 제공합니다. ``np.ones``은 원소가 모두 1인 텐서를 생성합니다."
   ]
  },
  {
   "cell_type": "code",
   "execution_count": 21,
   "metadata": {},
   "outputs": [
    {
     "data": {
      "text/plain": [
       "array([[[1., 1.],\n",
       "        [1., 1.],\n",
       "        [1., 1.]]])"
      ]
     },
     "execution_count": 21,
     "metadata": {},
     "output_type": "execute_result"
    }
   ],
   "source": [
    "ones = np.ones((1, 3, 2))\n",
    "ones"
   ]
  },
  {
   "cell_type": "markdown",
   "metadata": {},
   "source": [
    "이때, ``np.ones()``의 인자로는 차원이 들어가는데요, 해당 차원을 가지는 텐서인데, 원소가 모두 1인 텐서를 생성하는 것입니다. 이 예제에서는 $(1, 3, 2)$가 인자로 들어갔으므로, $(1, 3, 2)$차원의 텐서가 생성되는 것입니다. 차원을 한번 출력해보겠습니다."
   ]
  },
  {
   "cell_type": "code",
   "execution_count": 22,
   "metadata": {},
   "outputs": [
    {
     "data": {
      "text/plain": [
       "(1, 3, 2)"
      ]
     },
     "execution_count": 22,
     "metadata": {},
     "output_type": "execute_result"
    }
   ],
   "source": [
    "ones.shape"
   ]
  },
  {
   "cell_type": "markdown",
   "metadata": {},
   "source": [
    "``np.ones``와 똑같은 함수이지만, 이번에는 원소가 모두 0인 텐서를 생성하는 함수로 ``np.zeros()``가 있습니다."
   ]
  },
  {
   "cell_type": "code",
   "execution_count": 23,
   "metadata": {},
   "outputs": [
    {
     "data": {
      "text/plain": [
       "array([[[0., 0., 0., 0.],\n",
       "        [0., 0., 0., 0.],\n",
       "        [0., 0., 0., 0.]],\n",
       "\n",
       "       [[0., 0., 0., 0.],\n",
       "        [0., 0., 0., 0.],\n",
       "        [0., 0., 0., 0.]],\n",
       "\n",
       "       [[0., 0., 0., 0.],\n",
       "        [0., 0., 0., 0.],\n",
       "        [0., 0., 0., 0.]]])"
      ]
     },
     "execution_count": 23,
     "metadata": {},
     "output_type": "execute_result"
    }
   ],
   "source": [
    "zeros = np.zeros((3, 3, 4))\n",
    "zeros"
   ]
  },
  {
   "cell_type": "code",
   "execution_count": 24,
   "metadata": {},
   "outputs": [
    {
     "data": {
      "text/plain": [
       "(3, 3, 4)"
      ]
     },
     "execution_count": 24,
     "metadata": {},
     "output_type": "execute_result"
    }
   ],
   "source": [
    "zeros.shape"
   ]
  },
  {
   "cell_type": "markdown",
   "metadata": {},
   "source": [
    "참고로, 텐서플로 라이브러리에도 ``tf.zeros``와 ``tf.ones``가 있는데 ``np.ones``와 ``np.zeros``의 역할과 정확히 일치합니다."
   ]
  },
  {
   "cell_type": "markdown",
   "metadata": {},
   "source": [
    "하지만, 0과 1로만 구성된 텐서를 생성하는것은 조금 재미가 없죠. 이번에는 원하는 차원의 텐서를 만들건데, 난수로 구성된 텐서를 만들어볼겁니다."
   ]
  },
  {
   "cell_type": "markdown",
   "metadata": {},
   "source": [
    "다음은 0과 1사이의 난수(uniform distribution입니다)를 이용하여 텐서를 생성한 것입니다."
   ]
  },
  {
   "cell_type": "code",
   "execution_count": 25,
   "metadata": {},
   "outputs": [
    {
     "data": {
      "text/plain": [
       "array([[[0.35860091, 0.55758823, 0.3995296 , 0.73208897],\n",
       "        [0.92779546, 0.47164617, 0.83500359, 0.0722753 ],\n",
       "        [0.97977693, 0.45117667, 0.69993325, 0.40206937]],\n",
       "\n",
       "       [[0.03282547, 0.23925974, 0.88011726, 0.94489279],\n",
       "        [0.8961195 , 0.18324637, 0.07562029, 0.23758846],\n",
       "        [0.21649603, 0.51997624, 0.26582377, 0.67363754]],\n",
       "\n",
       "       [[0.81120933, 0.79881158, 0.80617308, 0.2386364 ],\n",
       "        [0.27058073, 0.46876019, 0.62665046, 0.11867644],\n",
       "        [0.8822191 , 0.36051694, 0.97594727, 0.01181267]]])"
      ]
     },
     "execution_count": 25,
     "metadata": {},
     "output_type": "execute_result"
    }
   ],
   "source": [
    "r1 = np.random.rand(3, 3, 4)\n",
    "r1"
   ]
  },
  {
   "cell_type": "code",
   "execution_count": 26,
   "metadata": {},
   "outputs": [
    {
     "data": {
      "text/plain": [
       "(3, 3, 4)"
      ]
     },
     "execution_count": 26,
     "metadata": {},
     "output_type": "execute_result"
    }
   ],
   "source": [
    "r1.shape"
   ]
  },
  {
   "cell_type": "markdown",
   "metadata": {},
   "source": [
    "**주의!** ``np.zeros``, ``np.ones``는 차원 리스트를 입력으로 받지만, 난수함수들은 차원 하나하나를 입력으로 받습니다. 그러니까, ``np.zeros()``의 인자는 1개가 들어갑니다. 이 1개는 차원정보가 담긴 리스트입니다. 즉, ``np.zeros((3, 3))``는 $(3, 3)$차원의 텐서를 만드는데, 인자로 $(3, 3)$이라는 튜플 1개가 들어갑니다(리스트로 넣어도 됩니다). 그러나, ``np.random.rand(3, 3)``는 인자로 차원 하나하나를 받고 있죠."
   ]
  },
  {
   "cell_type": "markdown",
   "metadata": {},
   "source": [
    "몇 가지 난수함수들을 더 보겠습니다. 기본적으로, numpy에서의 난수함수들은 모두 텐서를 생성합니다."
   ]
  },
  {
   "cell_type": "markdown",
   "metadata": {},
   "source": [
    "``np.random.randn``은 standard normal distribution에서 생성된 난수로 구성된 텐서를 생성합니다."
   ]
  },
  {
   "cell_type": "code",
   "execution_count": 27,
   "metadata": {},
   "outputs": [
    {
     "data": {
      "text/plain": [
       "array([[[-1.78862007, -3.20232751, -2.68576226],\n",
       "        [ 0.68408075,  0.77454797, -0.55352276]],\n",
       "\n",
       "       [[-1.34630836,  0.26638912, -2.00565378],\n",
       "        [-1.39870888,  0.317069  , -0.699716  ]]])"
      ]
     },
     "execution_count": 27,
     "metadata": {},
     "output_type": "execute_result"
    }
   ],
   "source": [
    "r2 = np.random.randn(2, 2, 3)\n",
    "r2"
   ]
  },
  {
   "cell_type": "code",
   "execution_count": 28,
   "metadata": {},
   "outputs": [
    {
     "data": {
      "text/plain": [
       "(2, 2, 3)"
      ]
     },
     "execution_count": 28,
     "metadata": {},
     "output_type": "execute_result"
    }
   ],
   "source": [
    "r2.shape"
   ]
  },
  {
   "cell_type": "markdown",
   "metadata": {},
   "source": [
    "다른 distribution과 관련된 함수들도 있는데요, 다른 애들의 경우, distribution parameter를 인자로 받고 추가로 ``size``라는 인자를 추가로 받습니다. 다음은 beta distribution에서 샘플링된 수로 구성된 $(2, 3)$차원의 텐서를 생성합니다."
   ]
  },
  {
   "cell_type": "code",
   "execution_count": 29,
   "metadata": {},
   "outputs": [
    {
     "data": {
      "text/plain": [
       "array([[0.43104869, 0.11591785, 0.80201939],\n",
       "       [0.28586156, 0.56427612, 0.85053096]])"
      ]
     },
     "execution_count": 29,
     "metadata": {},
     "output_type": "execute_result"
    }
   ],
   "source": [
    "r3 = np.random.beta(1, 1, size=(2, 3))\n",
    "r3"
   ]
  },
  {
   "cell_type": "code",
   "execution_count": 30,
   "metadata": {},
   "outputs": [
    {
     "data": {
      "text/plain": [
       "(2, 3)"
      ]
     },
     "execution_count": 30,
     "metadata": {},
     "output_type": "execute_result"
    }
   ],
   "source": [
    "r3.shape"
   ]
  },
  {
   "cell_type": "markdown",
   "metadata": {},
   "source": [
    "이외에 파이썬 내장함수 ``range``에 대응하는 numpy 함수가 있는데, ``range``와 매우 유사하지만, numpy tensor를 만드는 것이 다릅니다."
   ]
  },
  {
   "cell_type": "code",
   "execution_count": 31,
   "metadata": {},
   "outputs": [
    {
     "data": {
      "text/plain": [
       "array([0, 1, 2, 3, 4, 5, 6, 7, 8, 9])"
      ]
     },
     "execution_count": 31,
     "metadata": {},
     "output_type": "execute_result"
    }
   ],
   "source": [
    "a = np.arange(10)\n",
    "a"
   ]
  }
 ],
 "metadata": {
  "kernelspec": {
   "display_name": "Python 3",
   "language": "python",
   "name": "python3"
  },
  "language_info": {
   "codemirror_mode": {
    "name": "ipython",
    "version": 3
   },
   "file_extension": ".py",
   "mimetype": "text/x-python",
   "name": "python",
   "nbconvert_exporter": "python",
   "pygments_lexer": "ipython3",
   "version": "3.7.6"
  }
 },
 "nbformat": 4,
 "nbformat_minor": 4
}
