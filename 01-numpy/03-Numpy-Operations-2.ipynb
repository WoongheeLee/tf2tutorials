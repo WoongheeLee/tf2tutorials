{
 "cells": [
  {
   "cell_type": "markdown",
   "metadata": {},
   "source": [
    "# Numpy Operations 2"
   ]
  },
  {
   "cell_type": "markdown",
   "metadata": {},
   "source": [
    "이번에는 조금 다른 넘파이 함수들을 소개하겠습니다."
   ]
  },
  {
   "cell_type": "markdown",
   "metadata": {},
   "source": [
    "맨 먼저, numpy를 임포트하겠습니다."
   ]
  },
  {
   "cell_type": "code",
   "execution_count": 1,
   "metadata": {},
   "outputs": [],
   "source": [
    "import numpy as np"
   ]
  },
  {
   "cell_type": "markdown",
   "metadata": {},
   "source": [
    "## Numpy for Statistics"
   ]
  },
  {
   "cell_type": "markdown",
   "metadata": {},
   "source": [
    "Numpy에는 여러가지 통계학적 함수가 있습니다."
   ]
  },
  {
   "cell_type": "code",
   "execution_count": 3,
   "metadata": {},
   "outputs": [
    {
     "data": {
      "text/plain": [
       "2.5"
      ]
     },
     "execution_count": 3,
     "metadata": {},
     "output_type": "execute_result"
    }
   ],
   "source": [
    "# 평균 계산\n",
    "np.mean([1, 2, 3, 4])"
   ]
  },
  {
   "cell_type": "code",
   "execution_count": 4,
   "metadata": {},
   "outputs": [
    {
     "data": {
      "text/plain": [
       "1.118033988749895"
      ]
     },
     "execution_count": 4,
     "metadata": {},
     "output_type": "execute_result"
    }
   ],
   "source": [
    "# 표준편차 계산\n",
    "np.std([1, 2, 3, 4])"
   ]
  },
  {
   "cell_type": "code",
   "execution_count": 5,
   "metadata": {},
   "outputs": [
    {
     "data": {
      "text/plain": [
       "1.25"
      ]
     },
     "execution_count": 5,
     "metadata": {},
     "output_type": "execute_result"
    }
   ],
   "source": [
    "# 분산 계산\n",
    "np.var([1, 2, 3, 4])"
   ]
  },
  {
   "cell_type": "code",
   "execution_count": 7,
   "metadata": {},
   "outputs": [
    {
     "data": {
      "text/plain": [
       "array([[ 1.57998298e+00, -2.40966998e-01, -2.01694175e-01,\n",
       "        -3.78368101e-01, -5.40796715e-01],\n",
       "       [-2.40966998e-01,  6.37211342e-01,  4.51802980e-01,\n",
       "         6.71743406e-01, -5.66837535e-02],\n",
       "       [-2.01694175e-01,  4.51802980e-01,  7.19370532e-01,\n",
       "         3.65654950e-01, -4.39390823e-02],\n",
       "       [-3.78368101e-01,  6.71743406e-01,  3.65654950e-01,\n",
       "         7.57885463e-01,  7.34474788e-04],\n",
       "       [-5.40796715e-01, -5.66837535e-02, -4.39390823e-02,\n",
       "         7.34474788e-04,  2.29630716e-01]])"
      ]
     },
     "execution_count": 7,
     "metadata": {},
     "output_type": "execute_result"
    }
   ],
   "source": [
    "A = np.random.randn(5, 5)\n",
    "\n",
    "# 공분산 계산\n",
    "np.cov(A)"
   ]
  },
  {
   "cell_type": "markdown",
   "metadata": {},
   "source": [
    "## Linear Algebra"
   ]
  },
  {
   "cell_type": "markdown",
   "metadata": {},
   "source": [
    "넘파이의 중요한 부분 중 하나입니다. 바로 선형대수 라이브러리 인데요, ``np.linalg`` 패키지 안에 있습니다. 뭐가있는지 한번 보죠."
   ]
  },
  {
   "cell_type": "code",
   "execution_count": 2,
   "metadata": {},
   "outputs": [
    {
     "data": {
      "text/plain": [
       "['LinAlgError',\n",
       " '__builtins__',\n",
       " '__cached__',\n",
       " '__doc__',\n",
       " '__file__',\n",
       " '__loader__',\n",
       " '__name__',\n",
       " '__package__',\n",
       " '__path__',\n",
       " '__spec__',\n",
       " '_umath_linalg',\n",
       " 'absolute_import',\n",
       " 'cholesky',\n",
       " 'cond',\n",
       " 'det',\n",
       " 'division',\n",
       " 'eig',\n",
       " 'eigh',\n",
       " 'eigvals',\n",
       " 'eigvalsh',\n",
       " 'inv',\n",
       " 'lapack_lite',\n",
       " 'linalg',\n",
       " 'lstsq',\n",
       " 'matrix_power',\n",
       " 'matrix_rank',\n",
       " 'multi_dot',\n",
       " 'norm',\n",
       " 'pinv',\n",
       " 'print_function',\n",
       " 'qr',\n",
       " 'slogdet',\n",
       " 'solve',\n",
       " 'svd',\n",
       " 'tensorinv',\n",
       " 'tensorsolve',\n",
       " 'test']"
      ]
     },
     "execution_count": 2,
     "metadata": {},
     "output_type": "execute_result"
    }
   ],
   "source": [
    "dir(np.linalg)"
   ]
  },
  {
   "cell_type": "markdown",
   "metadata": {},
   "source": [
    "### Matrix Inverse"
   ]
  },
  {
   "cell_type": "markdown",
   "metadata": {},
   "source": [
    "가장 먼저, 행렬의 역행렬을 계산하는 것을 해봅시다. 일단 행렬 하나를 만들어보겠습니다."
   ]
  },
  {
   "cell_type": "code",
   "execution_count": 3,
   "metadata": {},
   "outputs": [
    {
     "data": {
      "text/plain": [
       "array([[ 0.09409776, -0.02201792, -0.0903095 , -0.28814529,  0.857127  ],\n",
       "       [ 1.56094336,  0.17197616, -0.63390995, -1.27588406, -0.04974632],\n",
       "       [ 0.47436442,  1.83080143,  0.24023092,  0.77142664, -1.64777404],\n",
       "       [ 0.37199348, -1.02165893,  1.51730458, -0.19254134, -0.01095904],\n",
       "       [ 0.99944555, -0.93646525, -1.9841018 ,  0.17849527,  1.16936977]])"
      ]
     },
     "execution_count": 3,
     "metadata": {},
     "output_type": "execute_result"
    }
   ],
   "source": [
    "A = np.random.randn(5, 5)\n",
    "A"
   ]
  },
  {
   "cell_type": "markdown",
   "metadata": {},
   "source": [
    "역행렬은 다음과 같이 계산합니다."
   ]
  },
  {
   "cell_type": "code",
   "execution_count": 4,
   "metadata": {},
   "outputs": [
    {
     "data": {
      "text/plain": [
       "array([[ 0.36897321,  0.15391524,  0.42981442,  0.47087848,  0.34616702],\n",
       "       [ 0.88909233,  0.01253975,  0.33709377, -0.2283573 , -0.17829215],\n",
       "       [ 0.54901115, -0.09887777,  0.18288445,  0.43203864, -0.14486788],\n",
       "       [ 0.24817137, -0.53656508,  0.47494213,  0.32683388,  0.46757885],\n",
       "       [ 1.29029507, -0.20737333,  0.14040634,  0.09783413,  0.09934179]])"
      ]
     },
     "execution_count": 4,
     "metadata": {},
     "output_type": "execute_result"
    }
   ],
   "source": [
    "np.linalg.inv(A)"
   ]
  },
  {
   "cell_type": "markdown",
   "metadata": {},
   "source": [
    "가끔 singular matrix인 경우, 역행렬 계산이 불가능한데, 다음처럼 역행렬처럼 역할을 하는 가짜(?) 역행렬을 만들 수 있습니다. pseudo-inverse라고 부르죠."
   ]
  },
  {
   "cell_type": "code",
   "execution_count": 5,
   "metadata": {},
   "outputs": [
    {
     "data": {
      "text/plain": [
       "array([[ 0.36897321,  0.15391524,  0.42981442,  0.47087848,  0.34616702],\n",
       "       [ 0.88909233,  0.01253975,  0.33709377, -0.2283573 , -0.17829215],\n",
       "       [ 0.54901115, -0.09887777,  0.18288445,  0.43203864, -0.14486788],\n",
       "       [ 0.24817137, -0.53656508,  0.47494213,  0.32683388,  0.46757885],\n",
       "       [ 1.29029507, -0.20737333,  0.14040634,  0.09783413,  0.09934179]])"
      ]
     },
     "execution_count": 5,
     "metadata": {},
     "output_type": "execute_result"
    }
   ],
   "source": [
    "np.linalg.pinv(A)"
   ]
  },
  {
   "cell_type": "markdown",
   "metadata": {},
   "source": [
    "``np.linalg.inv``의 결과와 별 차이가 없네요."
   ]
  },
  {
   "cell_type": "markdown",
   "metadata": {},
   "source": [
    "### Eigen Values & Eigen Vectors"
   ]
  },
  {
   "cell_type": "markdown",
   "metadata": {},
   "source": [
    "선형대수하면 빠질 수 없는게, eigen value, eigen vector입니다. 여기서, eigen value, eigen vector는 어떤 선형변환 $T$에 대해서 정의되는데, 선형변환 $T$를 한 이후에도 방향이 변하지 않는 벡터를 eigen vector라고 부르고, 선형변환 $T$를 하기 전 후의 벡터 크기 비율을 eigen value라고 부릅니다."
   ]
  },
  {
   "cell_type": "markdown",
   "metadata": {},
   "source": [
    "선형변환 $T$를 정의해보죠."
   ]
  },
  {
   "cell_type": "code",
   "execution_count": 6,
   "metadata": {},
   "outputs": [
    {
     "data": {
      "text/plain": [
       "array([[ 0.15425145,  0.98803162, 10.        ],\n",
       "       [-0.98803162,  0.15425145, 10.        ],\n",
       "       [ 1.        ,  1.        ,  1.        ]])"
      ]
     },
     "execution_count": 6,
     "metadata": {},
     "output_type": "execute_result"
    }
   ],
   "source": [
    "T = np.array([np.cos(30), -np.sin(30), 10, np.sin(30), np.cos(30), 10, 1, 1, 1]).reshape(3, 3)\n",
    "T"
   ]
  },
  {
   "cell_type": "markdown",
   "metadata": {},
   "source": [
    "위 변환행렬 $T$는 affine transformation 행렬로, 30 degree만큼 회전시키면서, $x$축 방향으로 10, $y$축 방향으로 10만큼 이동하라는 변환입니다."
   ]
  },
  {
   "cell_type": "markdown",
   "metadata": {},
   "source": [
    "$T$의 eigen value, eigen vector를 계산하려면 다음과 같이 하면 됩니다."
   ]
  },
  {
   "cell_type": "code",
   "execution_count": 9,
   "metadata": {},
   "outputs": [
    {
     "name": "stdout",
     "output_type": "stream",
     "text": [
      "Eigen values:\n",
      "-3.7809485069446485\n",
      "0.1107634382126452\n",
      "4.978687968507169\n",
      "\n",
      "Eigen vectors:\n",
      "[0.49371092 0.67368446 0.78817863]\n",
      "[ 0.8247419  -0.73571907  0.52022175]\n",
      "[-0.27577223  0.06976165  0.32885222]\n"
     ]
    }
   ],
   "source": [
    "evalues, evectors = np.linalg.eig(T)\n",
    "\n",
    "print(\"Eigen values:\")\n",
    "for evalue in evalues: print(evalue)\n",
    "print()\n",
    "\n",
    "print(\"Eigen vectors:\")\n",
    "for evector in evectors: print(evector)"
   ]
  },
  {
   "cell_type": "markdown",
   "metadata": {},
   "source": [
    "$3 \\times 3$행렬이라서 eigen value와 eigen vector가 3개씩 나오네요."
   ]
  }
 ],
 "metadata": {
  "kernelspec": {
   "display_name": "Python 3",
   "language": "python",
   "name": "python3"
  },
  "language_info": {
   "codemirror_mode": {
    "name": "ipython",
    "version": 3
   },
   "file_extension": ".py",
   "mimetype": "text/x-python",
   "name": "python",
   "nbconvert_exporter": "python",
   "pygments_lexer": "ipython3",
   "version": "3.7.6"
  }
 },
 "nbformat": 4,
 "nbformat_minor": 4
}
