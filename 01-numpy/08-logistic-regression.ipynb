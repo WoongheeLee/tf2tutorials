{
 "cells": [
  {
   "cell_type": "markdown",
   "metadata": {},
   "source": [
    "# 로지스틱 리그레션\n",
    "* gradient descent\n",
    "* vectorization\n",
    "* mnist dataset 으로 실습"
   ]
  },
  {
   "cell_type": "markdown",
   "metadata": {},
   "source": [
    "일반적인 선형회귀식은 아래와 같다.\n",
    "$$\n",
    "y = \\beta_0 + x_i \\cdot \\beta_1\n",
    "$$"
   ]
  },
  {
   "cell_type": "markdown",
   "metadata": {},
   "source": [
    "로지스틱 리그레션 (logistic regression) 은 log 라는 말이 들어가는 것처럼, 선형식에 지수함수와 로그함수를 통과시킨 형태의 모델로 되어 있다.\n",
    "\n",
    "이진분류(0 또는 1이 정답)를 위한 로지스틱 리그레션 모델의 목적식은 아래와 같다.\n",
    "$$\n",
    "\\sum_{i=1}^n y_i \\cdot \\log \\bigg( {1 \\over 1 + e^{-(\\beta_0 + x_i \\cdot \\beta)}} \\bigg) + \\sum_{i=1}^n (1-y_i) \\cdot \\bigg( 1- {1 \\over 1 + e^{-(\\beta_0 + x_i \\cdot \\beta)}} \\bigg)\n",
    "$$\n",
    "\n",
    "모델은 \n",
    "$$\n",
    "f(x) = {1\\over 1 + \\exp \\big( -(\\beta x + \\beta_0) \\big) }\n",
    "$$"
   ]
  },
  {
   "cell_type": "markdown",
   "metadata": {},
   "source": [
    "최적 모델 파라미터를 찾기 위해서 gradient descent 를 사용한다면 아래와 같은 업데이트 식을 사용한다. (목적식을 $\\beta$ 와 $\\beta_0$ 로 미분해보자.)\n",
    "$$\n",
    "\\beta^{(t+1)} \\leftarrow \\beta^{(t)} + \\alpha \\sum_{i=1}^n \\bigg( y_i - {1\\over 1 + e^{-(\\beta_0 + x_i \\cdot \\beta)}} \\bigg) x_i\n",
    "$$\n",
    "\n",
    "$$\n",
    "\\beta_0^{(t+1)} \\leftarrow \\beta_0^{(t)} + \\alpha \\sum_{i=1}^n \\bigg( y_i - {1 \\over 1+e^{-(\\beta_0 + x_i \\cdot \\beta)}}  \\bigg)\n",
    "$$"
   ]
  },
  {
   "cell_type": "code",
   "execution_count": null,
   "metadata": {},
   "outputs": [],
   "source": []
  }
 ],
 "metadata": {
  "kernelspec": {
   "display_name": "Python 3",
   "language": "python",
   "name": "python3"
  },
  "language_info": {
   "codemirror_mode": {
    "name": "ipython",
    "version": 3
   },
   "file_extension": ".py",
   "mimetype": "text/x-python",
   "name": "python",
   "nbconvert_exporter": "python",
   "pygments_lexer": "ipython3",
   "version": "3.7.7"
  }
 },
 "nbformat": 4,
 "nbformat_minor": 4
}
