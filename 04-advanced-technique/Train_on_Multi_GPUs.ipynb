{
 "cells": [
  {
   "cell_type": "markdown",
   "metadata": {},
   "source": [
    "# 목적"
   ]
  },
  {
   "cell_type": "markdown",
   "metadata": {},
   "source": [
    "* Multi GPUs 환경에서 TensorFlow 2 모델 학습 템플릿 코드\n",
    "* Custom 모델과 custom loss 를 사용할 수 있는 템플릿\n",
    "* 환경: python 3.7"
   ]
  },
  {
   "cell_type": "markdown",
   "metadata": {},
   "source": [
    "## 참고"
   ]
  },
  {
   "cell_type": "markdown",
   "metadata": {},
   "source": [
    "텐서플로우 튜토리얼 공식 문서인\n",
    "* [훈련 루프와 함께 tf.distribute.Strategy 사용하기](https://www.tensorflow.org/tutorials/distribute/custom_training?hl=ko)\n",
    "* [텐서플로로 분산 훈련하기](https://www.tensorflow.org/guide/distributed_training)\n",
    "\n",
    "를 참고하여 작성함"
   ]
  },
  {
   "cell_type": "markdown",
   "metadata": {},
   "source": [
    "# 템플릿 코드 해설 "
   ]
  },
  {
   "cell_type": "markdown",
   "metadata": {},
   "source": [
    "* 데이터 파일 위치"
   ]
  },
  {
   "cell_type": "code",
   "execution_count": null,
   "metadata": {},
   "outputs": [],
   "source": [
    "# 카세트\n",
    "path_eeg_fpz_cz_cs = '../data/eeg_fpz_cz.cs'\n",
    "path_eeg_pz_oz_cs = '../data/eeg_pz_oz.cs'\n",
    "# 텔레메트리\n",
    "path_eeg_fpz_cz_tm = '../data/eeg_fpz_cz.tm'\n",
    "path_eeg_pz_oz_tm = '../data/eeg_pz_oz.tm'"
   ]
  },
  {
   "cell_type": "markdown",
   "metadata": {},
   "source": [
    "GPU 몇 번을 사용할지 \n",
    "\n",
    "```python\n",
    "os.environ['CUDA_VISIBLE_DEVICES'] = '0,1,2'\n",
    "```\n",
    "위와 같이 세팅해주어야 안 쓰는 GPU 는 텐서플로우가 안쳐다봄"
   ]
  },
  {
   "cell_type": "code",
   "execution_count": 1,
   "metadata": {},
   "outputs": [],
   "source": [
    "DEVICES = '0,1,2,3'\n",
    "TF_DEVICES = []\n",
    "for d in DEVICES.split(','):\n",
    "    TF_DEVICES.append('/gpu:'+d)"
   ]
  },
  {
   "cell_type": "code",
   "execution_count": 2,
   "metadata": {},
   "outputs": [],
   "source": [
    "import sys\n",
    "sys.path.append(\"../utils\")\n",
    "\n",
    "import os\n",
    "os.environ['CUDA_VISIBLE_DEVICES'] = DEVICES\n",
    "import time\n",
    "\n",
    "import tensorflow as tf\n",
    "from tensorflow.keras import losses, metrics, optimizers\n",
    "from data_loader import DataLoader # 데이터 불러오기 클래스\n",
    "from models.classifier import Dcnn # 모델 클래스\n",
    "\n",
    "import numpy as np\n",
    "from tqdm import tqdm\n",
    "import matplotlib.pyplot as plt"
   ]
  },
  {
   "cell_type": "markdown",
   "metadata": {},
   "source": [
    "이 예제에서는 MirroredStrategy 만 다룸\n",
    "\n",
    "MirroredStrategy 의 개요\n",
    "* 멀티 GPU 환경에서 각각의 GPU 에 모델을 복사하여 사용\n",
    "* All reduce algorithm 으로 모델 파라미터 업데이트 (코드 짜는 사람은 동기화 어떻게 하는지 신경 쓸 필요 없음)"
   ]
  },
  {
   "cell_type": "code",
   "execution_count": null,
   "metadata": {},
   "outputs": [],
   "source": [
    "# distributed training\n",
    "strategy = tf.distribute.MirroredStrategy(devices=TF_DEVICES) # 어떤 GPU 쓸지 argument 로 줌\n",
    "print(f'num of devices: {strategy.num_replicas_in_sync}')"
   ]
  },
  {
   "cell_type": "code",
   "execution_count": null,
   "metadata": {},
   "outputs": [],
   "source": [
    "ETA = 1e-4 # learning rate\n",
    "BATCH_SIZE = 2**10 # 각 GPU 에서 batch size\n",
    "GLOBAL_BATCH_SIZE = BATCH_SIZE*strategy.num_replicas_in_sync # 모든 GPU 에 대한 총 batch size\n",
    "EPOCHS = 150"
   ]
  },
  {
   "cell_type": "markdown",
   "metadata": {},
   "source": [
    "Distributed training 은\n",
    "```python\n",
    "strategy.scope()\n",
    "```\n",
    "안에서 이루어져야 함\n",
    "\n",
    "데이터 batch 에 대한 코드와 accuracy, loss 등에 관한 코드 몇 가지를 제외하고, 기존의 코드를 그대로 쓸 수 있음\n",
    "\n",
    "아래에서 기존 코드와 다른 점은 **losses** 에 **reduction** argument"
   ]
  },
  {
   "cell_type": "code",
   "execution_count": null,
   "metadata": {},
   "outputs": [],
   "source": [
    "with strategy.scope():\n",
    "    # 모델 클래스 생성\n",
    "    clf = Dcnn()\n",
    "    clf.build(input_shape=(None,3000,1))\n",
    "    \n",
    "    # 데이터 로드 클래스 생성\n",
    "    data_loader = DataLoader()\n",
    "    \n",
    "    # 옵티마이저와 로스 생성\n",
    "    opt = optimizers.Adam(learning_rate=ETA)\n",
    "    loss_object = losses.SparseCategoricalCrossentropy(reduction=losses.Reduction.NONE)\n",
    "    \n",
    "    test_loss = metrics.Mean(name='test_loss')\n",
    "    train_accuracy = metrics.SparseCategoricalAccuracy(name='train_accuracy')\n",
    "    test_accuracy = metrics.SparseCategoricalAccuracy(name='test_accuracy')\n",
    "    \n",
    "    # 각각 다른 모델 클래스에 관해 grads 를 구하고, apply gradients 를 하려면, 리스트에 넣어서 적용\n",
    "    var_list = []\n",
    "    var_list.extend(clf.trainable_variables)"
   ]
  },
  {
   "cell_type": "markdown",
   "metadata": {},
   "source": [
    "트레이닝 단계에서 쓰이는 함수도 **strategy.scope()** 로 감싸줌"
   ]
  },
  {
   "cell_type": "code",
   "execution_count": null,
   "metadata": {},
   "outputs": [],
   "source": [
    "with strategy.scope():\n",
    "    \n",
    "    def compute_loss(true,pred):\n",
    "        # 문제 정의와 모델 구조에 따라 입맛에 맞게 고쳐 쓰자.\n",
    "        per_example_loss = loss_object(true,pred)\n",
    "        # 분산 환경에서 사용할 공통 코드\n",
    "        return tf.nn.compute_average_loss(per_example_loss,global_batch_size=GLOBAL_BATCH_SIZE)\n",
    "    \n",
    "    # 문제 정의와 모델 구조에 따라 입맛에 맞게 고쳐 쓰자.\n",
    "    def train_step(inputs):\n",
    "        X, y = inputs\n",
    "        \n",
    "        with tf.GradientTape() as t:\n",
    "            y_pred = clf(X)\n",
    "            loss = compute_loss(y,y_pred)\n",
    "        grads = t.gradient(loss, var_list)\n",
    "        opt.apply_gradients(list(zip(grads, var_list)))\n",
    "        \n",
    "        train_accuracy.update_state(y,y_pred)\n",
    "        return loss\n",
    "    \n",
    "    # 문제 정의와 모델 구조에 따라 입맛에 맞게 고쳐 쓰자.\n",
    "    def test_step(inputs):\n",
    "        X, y = inputs\n",
    "        y_pred = clf(X)\n",
    "        t_loss = loss_object(y,y_pred)\n",
    "        test_loss.update_state(t_loss)\n",
    "        test_accuracy.update_state(y,y_pred)\n",
    "        \n",
    "    # 분산 환경에서 사용할 공통 코드\n",
    "    def distributed_train_step(dataset_inputs):\n",
    "        per_replica_losses = strategy.experimental_run_v2(train_step,args=(dataset_inputs,))\n",
    "        return strategy.reduce(tf.distribute.ReduceOp.SUM, per_replica_losses, axis=None)\n",
    "\n",
    "    # 분산 환경에서 사용할 공통 코드\n",
    "    def distributed_test_step(dataset_inputs):\n",
    "        return strategy.experimental_run_v2(test_step, args=(dataset_inputs,))    "
   ]
  },
  {
   "cell_type": "markdown",
   "metadata": {},
   "source": [
    "학습 과정도 **strategy.scope()** 로 감싸주어야 함"
   ]
  },
  {
   "cell_type": "code",
   "execution_count": null,
   "metadata": {},
   "outputs": [],
   "source": [
    "with strategy.scope():\n",
    "    # cross validation 할 횟수 만큼 seed 개수를 정해줌\n",
    "    for seed in range(1):\n",
    "        # seed 에 따라 다른 데이터 샘플을 불러옴\n",
    "        X_train, y_train, X_valid, y_valid, X_test, y_test = data_loader(path_eeg_fpz_cz_cs, seed=seed, step=1)\n",
    "        Max_train = np.max(X_train)\n",
    "        Max_valid = np.max(X_valid)\n",
    "        Max_test = np.max(X_test)\n",
    "        X_train = np.squeeze(X_train,axis=1)/Max_train\n",
    "        X_valid = np.squeeze(X_valid,axis=1)/Max_valid\n",
    "        X_test = np.squeeze(X_test,axis=1)/Max_test\n",
    "        \n",
    "        # 데이터 길이마큼 shuffle 해줄 수 있도록 함\n",
    "        BUFFER_SIZE = len(X_train)\n",
    "        \n",
    "        # shuffle 된 배치를 불러올 수 있도록 함\n",
    "        # epoch 마다 shuffle 할 수 있도록 세팅 가능하므로 이걸 쓰는게 좋음\n",
    "        train_dataset = tf.data.Dataset\\\n",
    "                        .from_tensor_slices((X_train,y_train))\\\n",
    "                        .shuffle(BUFFER_SIZE).batch(GLOBAL_BATCH_SIZE)\n",
    "        # multi gpu 에서 데이터를 자동으로 나눠가지도록 함\n",
    "        train_dist_dataset = strategy.experimental_distribute_dataset(train_dataset)\n",
    "        \n",
    "        # validation dataset 에 관해 위와 같은 역하\n",
    "        valid_dataset = tf.data.Dataset\\\n",
    "                        .from_tensor_slices((X_valid,y_valid))\\\n",
    "                        .shuffle(BUFFER_SIZE).batch(GLOBAL_BATCH_SIZE)\n",
    "        valid_dist_dataset = strategy.experimental_distribute_dataset(valid_dataset)\n",
    "        \n",
    "        \n",
    "        for e in range(EPOCHS):\n",
    "            start_time = time.time()\n",
    "            \n",
    "            num_batches = 0\n",
    "            total_loss = .0\n",
    "            for x in train_dist_dataset:\n",
    "                total_loss += distributed_train_step(x)\n",
    "                num_batches += 1\n",
    "            train_loss = total_loss / num_batches\n",
    "            \n",
    "            for x in valid_dist_dataset:\n",
    "                distributed_test_step(x)\n",
    "                \n",
    "            if (e+1)%10 == 0 or e == 0:\n",
    "                print(f\"{e+1}/{EPOCHS}, TRAIN: {train_loss:.8f}, {train_accuracy.result()*100:.2f}%, VALID: {test_loss.result():.8f}, {test_accuracy.result()*100:.2f}% {time.time() - start_time:.2f} sec/epoch\")\n",
    "            \n",
    "            mean_time.append(time.time() - start_time)\n",
    "\n",
    "            # loss, accuracy 를 리셋해줌\n",
    "            test_loss.reset_states()\n",
    "            train_accuracy.reset_states()\n",
    "            test_accuracy.reset_states()"
   ]
  },
  {
   "cell_type": "markdown",
   "metadata": {},
   "source": [
    "모델 inference 도 분산 환경에서 수행 가능"
   ]
  },
  {
   "cell_type": "code",
   "execution_count": null,
   "metadata": {},
   "outputs": [],
   "source": [
    "%%time\n",
    "test_dataset = tf.data.Dataset\\\n",
    "                .from_tensor_slices((X_test,y_test))\\\n",
    "                .shuffle(BUFFER_SIZE).batch(GLOBAL_BATCH_SIZE)\n",
    "test_dist_dataset = strategy.experimental_distribute_dataset(test_dataset)\n",
    "\n",
    "with strategy.scope():\n",
    "    for x in test_dist_dataset:\n",
    "        distributed_test_step(x)\n",
    "print(f\"TEST: {test_loss.result():.8f}, {test_accuracy.result()*100:.2f}%\")\n",
    "test_loss.reset_states()"
   ]
  },
  {
   "cell_type": "markdown",
   "metadata": {},
   "source": [
    "# GPU 개수에 따른 모델 성능"
   ]
  },
  {
   "cell_type": "code",
   "execution_count": 3,
   "metadata": {},
   "outputs": [
    {
     "data": {
      "image/png": "[encoded data removed]",
      "text/plain": [
       "<matplotlib.figure.Figure at 0x7f614d57b610>"
      ]
     },
     "metadata": {},
     "output_type": "display_data"
    }
   ],
   "source": [
    "performance = [81.22,82.21,81.32,83.59]\n",
    "xlabel = ['1','2','3','4']\n",
    "x = np.arange(len(performance))\n",
    "plt.figure(facecolor='w',figsize=(5,2),dpi=120)\n",
    "plt.bar(x,performance)\n",
    "plt.xticks(x,xlabel)\n",
    "plt.ylim(0,90)\n",
    "plt.show()"
   ]
  },
  {
   "cell_type": "markdown",
   "metadata": {},
   "source": [
    "# GPU 개수에 따른 epoch 당 training 소요시간 평균\n",
    "* 이 모델은 CPU 와 parameter 주고 받는 데 시간이 오래 더 오래 걸려서 아래와 같은 결과인듯"
   ]
  },
  {
   "cell_type": "code",
   "execution_count": 4,
   "metadata": {},
   "outputs": [
    {
     "data": {
      "image/png": "[encoded data removed]",
      "text/plain": [
       "<matplotlib.figure.Figure at 0x7f614d26fb10>"
      ]
     },
     "metadata": {},
     "output_type": "display_data"
    }
   ],
   "source": [
    "average = [2.80,5.39,4.49,3.97]\n",
    "xlabel = ['1','2','3','4']\n",
    "x = np.arange(len(performance))\n",
    "plt.figure(facecolor='w',figsize=(5,2),dpi=120)\n",
    "plt.bar(x,average)\n",
    "plt.xticks(x,xlabel)\n",
    "plt.ylim(0,6)\n",
    "plt.show()"
   ]
  },
  {
   "cell_type": "code",
   "execution_count": null,
   "metadata": {},
   "outputs": [],
   "source": []
  }
 ],
 "metadata": {
  "kernelspec": {
   "display_name": "Python 3",
   "language": "python",
   "name": "python3"
  },
  "language_info": {
   "codemirror_mode": {
    "name": "ipython",
    "version": 3
   },
   "file_extension": ".py",
   "mimetype": "text/x-python",
   "name": "python",
   "nbconvert_exporter": "python",
   "pygments_lexer": "ipython3",
   "version": "3.7.5"
  }
 },
 "nbformat": 4,
 "nbformat_minor": 4
}
