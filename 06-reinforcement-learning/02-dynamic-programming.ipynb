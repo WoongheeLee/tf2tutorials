{
 "cells": [
  {
   "cell_type": "markdown",
   "metadata": {},
   "source": [
    "# Dynamic Programming"
   ]
  },
  {
   "cell_type": "code",
   "execution_count": 71,
   "metadata": {},
   "outputs": [],
   "source": [
    "import gym\n",
    "import numpy as np"
   ]
  },
  {
   "cell_type": "markdown",
   "metadata": {},
   "source": [
    "## Constant"
   ]
  },
  {
   "cell_type": "code",
   "execution_count": 68,
   "metadata": {},
   "outputs": [],
   "source": [
    "GAMMA = .99"
   ]
  },
  {
   "cell_type": "markdown",
   "metadata": {},
   "source": [
    "## Environment"
   ]
  },
  {
   "cell_type": "code",
   "execution_count": 63,
   "metadata": {},
   "outputs": [],
   "source": [
    "env = gym.make('FrozenLake-v0')"
   ]
  },
  {
   "cell_type": "code",
   "execution_count": 64,
   "metadata": {},
   "outputs": [
    {
     "data": {
      "text/plain": [
       "0"
      ]
     },
     "execution_count": 64,
     "metadata": {},
     "output_type": "execute_result"
    }
   ],
   "source": [
    "env.reset()"
   ]
  },
  {
   "cell_type": "code",
   "execution_count": 69,
   "metadata": {},
   "outputs": [
    {
     "data": {
      "text/plain": [
       "Discrete(16)"
      ]
     },
     "execution_count": 69,
     "metadata": {},
     "output_type": "execute_result"
    }
   ],
   "source": [
    "env.observation_space"
   ]
  },
  {
   "cell_type": "code",
   "execution_count": 70,
   "metadata": {},
   "outputs": [
    {
     "data": {
      "text/plain": [
       "Discrete(4)"
      ]
     },
     "execution_count": 70,
     "metadata": {},
     "output_type": "execute_result"
    }
   ],
   "source": [
    "env.action_space"
   ]
  },
  {
   "cell_type": "code",
   "execution_count": 76,
   "metadata": {},
   "outputs": [
    {
     "name": "stdout",
     "output_type": "stream",
     "text": [
      "  (Left)\n",
      "\u001b[41mS\u001b[0mFFF\n",
      "FHFH\n",
      "FFFH\n",
      "HFFG\n"
     ]
    }
   ],
   "source": [
    "# S -> G로 가는게 목표\n",
    "env.render()"
   ]
  },
  {
   "cell_type": "markdown",
   "metadata": {},
   "source": [
    "## Policy evaluation"
   ]
  },
  {
   "cell_type": "markdown",
   "metadata": {},
   "source": [
    "* Problem: evaluate a given policy $\\pi$\n",
    "* Solution: iterative application of Bellman expectation backup\n",
    "* $v_1 \\rightarrow v_2 \\rightarrow \\cdots \\rightarrow v_\\pi$\n",
    "* Using synchronous backups,\n",
    "  * At each iteration $k+1$\n",
    "  * For all states $s \\in S$\n",
    "  * Update $v_{k+1} (s)$ from $v_k (s')$\n",
    "  * where $s'$ is a successor state of $s$ "
   ]
  },
  {
   "cell_type": "markdown",
   "metadata": {},
   "source": [
    "* update value function\n",
    "$$\n",
    "v_{k+1}(s) = \\sum_{a\\in A} \\pi (a|s) \\Bigg( R_s^a + \\gamma \\sum_{s'\\in S}P^a_{ss'}v_k \\bigg(s'\\bigg) \\Bigg)\n",
    "$$"
   ]
  },
  {
   "cell_type": "code",
   "execution_count": 79,
   "metadata": {},
   "outputs": [],
   "source": [
    "class ValueFunction(object):\n",
    "    def __init__(self):\n",
    "        '''\n",
    "            1차원 벡터\n",
    "            s 개 원소, 각 원소는 reward 의미\n",
    "            s -> r\n",
    "        '''\n",
    "        self.R = np.zeros((env.observation_space.n,))\n",
    "        \n",
    "    def update(self, R_next):\n",
    "        self.R = np.add(self.R, GAMMA * R_next)\n",
    "        \n",
    "valuefunction = ValueFunction()"
   ]
  },
  {
   "cell_type": "code",
   "execution_count": 78,
   "metadata": {},
   "outputs": [],
   "source": [
    "class Transition(object):\n",
    "    def __init__(self):\n",
    "        \"\"\"\n",
    "            transition matrix\n",
    "            the probability of transition from s to s' given a\n",
    "            key: action\n",
    "            value: (s, s')\n",
    "        \"\"\"\n",
    "\n",
    "        self.P = dict()\n",
    "\n",
    "        for k in range(env.action_space.n):\n",
    "            self.P[k] = np.zeros((env.observation_space.n, env.observation_space.n))\n",
    "            \n",
    "    def update(self):\n",
    "        self.P\n",
    "    \n",
    "transition = Transition()"
   ]
  },
  {
   "cell_type": "code",
   "execution_count": null,
   "metadata": {},
   "outputs": [],
   "source": [
    "class Policy(object):\n",
    "    def __init__(self):\n",
    "        \n",
    "        \n",
    "        pass"
   ]
  },
  {
   "cell_type": "markdown",
   "metadata": {},
   "source": [
    "## Policy improvement\n"
   ]
  },
  {
   "cell_type": "markdown",
   "metadata": {},
   "source": [
    "Improve the policy by acting greedily with respect to $v_\\pi$\n",
    "$$\n",
    "\\pi' = \\mbox{greedy}(v_\\pi)\n",
    "$$"
   ]
  }
 ],
 "metadata": {
  "kernelspec": {
   "display_name": "Python 3",
   "language": "python",
   "name": "python3"
  },
  "language_info": {
   "codemirror_mode": {
    "name": "ipython",
    "version": 3
   },
   "file_extension": ".py",
   "mimetype": "text/x-python",
   "name": "python",
   "nbconvert_exporter": "python",
   "pygments_lexer": "ipython3",
   "version": "3.7.7"
  }
 },
 "nbformat": 4,
 "nbformat_minor": 4
}
