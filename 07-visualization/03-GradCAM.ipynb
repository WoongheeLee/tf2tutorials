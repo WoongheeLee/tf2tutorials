{
 "cells": [
  {
   "cell_type": "markdown",
   "metadata": {},
   "source": [
    "# 미완성\n",
    "수정 필요"
   ]
  },
  {
   "cell_type": "markdown",
   "metadata": {},
   "source": [
    "# 목적\n",
    "* Grad-CAM"
   ]
  },
  {
   "cell_type": "code",
   "execution_count": null,
   "metadata": {},
   "outputs": [],
   "source": [
    "import tensorflow as tf\n",
    "import tensorflow_datasets as tfds\n",
    "import matplotlib.pyplot as plt\n",
    "import numpy as np\n",
    "from PIL import Image\n",
    "import time\n",
    "\n",
    "%matplotlib inline"
   ]
  },
  {
   "cell_type": "code",
   "execution_count": null,
   "metadata": {},
   "outputs": [],
   "source": [
    "print(tf.__version__)\n",
    "print(tfds.__version__)"
   ]
  },
  {
   "cell_type": "markdown",
   "metadata": {},
   "source": [
    "## 상수"
   ]
  },
  {
   "cell_type": "code",
   "execution_count": null,
   "metadata": {},
   "outputs": [],
   "source": [
    "BATCH_SIZE = 32\n",
    "EPOCHS = 1"
   ]
  },
  {
   "cell_type": "markdown",
   "metadata": {},
   "source": [
    "## 데이터 준비\n",
    "* imagenet 데이터 중에서 제일 분류 잘 되는 데이터 일부를 가져다 쓰자."
   ]
  },
  {
   "cell_type": "code",
   "execution_count": null,
   "metadata": {},
   "outputs": [],
   "source": [
    "ds = tfds.load('imagenette/160px-v2')"
   ]
  },
  {
   "cell_type": "code",
   "execution_count": null,
   "metadata": {},
   "outputs": [],
   "source": [
    "X_train, y_train = [], []\n",
    "for x in ds['train']:\n",
    "    img = np.array(Image.fromarray(x['image'].numpy()).resize((160,160)))\n",
    "    X_train.append(img)\n",
    "    y_train.append(x['label'])\n",
    "    \n",
    "X_test, y_test = [], []\n",
    "for x in ds['validation']:\n",
    "    img = np.array(Image.fromarray(x['image'].numpy()).resize((160,160)))\n",
    "    X_test.append(img)\n",
    "    y_test.append(x['label'])\n",
    "    \n",
    "X_train = np.array(X_train)\n",
    "y_train = np.array(y_train)\n",
    "\n",
    "X_test = np.array(X_test)\n",
    "y_test = np.array(y_test)\n",
    "\n",
    "print(X_train.shape, y_train.shape)\n",
    "print(X_test.shape, y_test.shape)"
   ]
  },
  {
   "cell_type": "markdown",
   "metadata": {},
   "source": [
    "* 데이터 함 그려보자."
   ]
  },
  {
   "cell_type": "code",
   "execution_count": null,
   "metadata": {},
   "outputs": [],
   "source": [
    "nrows, ncols = 5, 5\n",
    "fig, ax = plt.subplots(nrows, ncols, figsize=(5,5), dpi=160)\n",
    "for i in range(nrows):\n",
    "    for j in range(ncols):\n",
    "        idx = np.random.randint(X_train.shape[0])\n",
    "        ax[i][j].imshow(X_train[idx])\n",
    "        ax[i][j].set_title(str(y_train[idx]), fontsize=10)\n",
    "        ax[i][j].axis('off')\n",
    "plt.subplots_adjust(hspace=.5)\n",
    "plt.show()"
   ]
  },
  {
   "cell_type": "code",
   "execution_count": null,
   "metadata": {},
   "outputs": [],
   "source": [
    "train_dataset = tf.data.Dataset.\\\n",
    "            from_tensor_slices((X_train, y_train)).\\\n",
    "            shuffle(True).batch(BATCH_SIZE)\n",
    "\n",
    "test_dataset = tf.data.Dataset.\\\n",
    "            from_tensor_slices((X_test, y_test)).batch(BATCH_SIZE)"
   ]
  },
  {
   "cell_type": "markdown",
   "metadata": {},
   "source": [
    "## 모델 불러오기"
   ]
  },
  {
   "cell_type": "code",
   "execution_count": null,
   "metadata": {},
   "outputs": [],
   "source": [
    "from tensorflow.keras import models, layers, losses, optimizers, metrics"
   ]
  },
  {
   "cell_type": "code",
   "execution_count": null,
   "metadata": {},
   "outputs": [],
   "source": [
    "mobilenetv2 = tf.keras.applications.MobileNetV2(input_shape=(160,160,3), include_top=False, weights='imagenet')\n",
    "\n",
    "class Model(models.Model):\n",
    "    def __init__(self, base):\n",
    "        super(Model, self).__init__()\n",
    "        self.base = base\n",
    "\n",
    "    def call(self, inputs):\n",
    "        x = self.base(inputs)\n",
    "        x = layers.Flatten()(x)\n",
    "        x = layers.Dense(10)(x)\n",
    "        return layers.Activation(tf.nn.softmax)(x)\n",
    "        \n",
    "model = Model(mobilenetv2)\n",
    "model.build((None, 160, 160, 3))"
   ]
  },
  {
   "cell_type": "markdown",
   "metadata": {},
   "source": [
    "* 사전 학습 된거 좀만 더 트레이닝"
   ]
  },
  {
   "cell_type": "code",
   "execution_count": null,
   "metadata": {},
   "outputs": [],
   "source": [
    "opt = optimizers.Adam(learning_rate=1e-5)\n",
    "scc = losses.SparseCategoricalCrossentropy()\n",
    "metric = metrics.SparseCategoricalAccuracy()\n",
    "loss = metrics.Mean()\n",
    "acc = metrics.Mean()"
   ]
  },
  {
   "cell_type": "code",
   "execution_count": null,
   "metadata": {},
   "outputs": [],
   "source": [
    "%%time\n",
    "for e in range(EPOCHS):\n",
    "    cnt = 0\n",
    "    for inputs in train_dataset:\n",
    "        start = time.time()\n",
    "        _x, _y = inputs\n",
    "        with tf.GradientTape() as t:\n",
    "            _y_pred = model(_x)\n",
    "            _loss = scc(_y, _y_pred)\n",
    "        grads = t.gradient(_loss, model.trainable_variables)\n",
    "        opt.apply_gradients(list(zip(grads, model.trainable_variables)))\n",
    "        loss.update_state(_loss)\n",
    "        acc.update_state(metric(_y, _y_pred))\n",
    "        if (cnt+1)%50 == 0:\n",
    "            print(f\"{cnt+1}-th, {time.time() - start:.2f} sec/batch\")\n",
    "        cnt += 1\n",
    "    print(f\"{e+1}/{EPOCHS} loss:{loss.result():.8f} acc:{acc.result()*100:.2f}%\")\n",
    "    loss.reset_states()\n",
    "    acc.reset_states()"
   ]
  },
  {
   "cell_type": "code",
   "execution_count": null,
   "metadata": {},
   "outputs": [],
   "source": []
  }
 ],
 "metadata": {
  "kernelspec": {
   "display_name": "Python 3",
   "language": "python",
   "name": "python3"
  },
  "language_info": {
   "codemirror_mode": {
    "name": "ipython",
    "version": 3
   },
   "file_extension": ".py",
   "mimetype": "text/x-python",
   "name": "python",
   "nbconvert_exporter": "python",
   "pygments_lexer": "ipython3",
   "version": "3.7.6"
  }
 },
 "nbformat": 4,
 "nbformat_minor": 4
}
