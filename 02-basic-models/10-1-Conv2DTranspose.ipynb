{
 "cells": [
  {
   "cell_type": "markdown",
   "metadata": {},
   "source": [
    "# 목적\n",
    "* Conv2DTranspose 에 관해 알아보자."
   ]
  },
  {
   "cell_type": "code",
   "execution_count": 1,
   "metadata": {},
   "outputs": [],
   "source": [
    "import tensorflow as tf\n",
    "from tensorflow.keras import layers\n",
    "import numpy as np\n",
    "import matplotlib.pyplot as plt\n",
    "\n",
    "%matplotlib inline"
   ]
  },
  {
   "cell_type": "code",
   "execution_count": 2,
   "metadata": {},
   "outputs": [
    {
     "data": {
      "text/plain": [
       "'2.2.0'"
      ]
     },
     "execution_count": 2,
     "metadata": {},
     "output_type": "execute_result"
    }
   ],
   "source": [
    "tf.__version__"
   ]
  },
  {
   "cell_type": "markdown",
   "metadata": {},
   "source": [
    "```python\n",
    "tf.keras.layers.Conv2DTranspose(\n",
    "    filters, kernel_size, strides=(1, 1), padding='valid', output_padding=None,\n",
    "    data_format=None, dilation_rate=(1, 1), activation=None, use_bias=True,\n",
    "    kernel_initializer='glorot_uniform', bias_initializer='zeros',\n",
    "    kernel_regularizer=None, bias_regularizer=None, activity_regularizer=None,\n",
    "    kernel_constraint=None, bias_constraint=None, **kwargs\n",
    ")\n",
    "```"
   ]
  },
  {
   "cell_type": "markdown",
   "metadata": {},
   "source": [
    "* Conv2DTranspose의 입력은 4D tensor 여야 함\n",
    "* 모양은 \n",
    "  * ```(batch_size, channels, rows, cols)```, ```data_format='channels_first'``` 일 때,\n",
    "  * ```(batch_size, rows, cols, channels)```, ```data_format='channels_last'``` 일 때,"
   ]
  },
  {
   "cell_type": "markdown",
   "metadata": {},
   "source": [
    "* 이 예제에서"
   ]
  },
  {
   "cell_type": "code",
   "execution_count": 3,
   "metadata": {},
   "outputs": [],
   "source": [
    "batch_size = 1\n",
    "rows = 1\n",
    "cols = 10\n",
    "channels = 1"
   ]
  },
  {
   "cell_type": "code",
   "execution_count": 4,
   "metadata": {},
   "outputs": [
    {
     "name": "stdout",
     "output_type": "stream",
     "text": [
      "(1, 1, 10, 1)\n",
      "[[[[0.5488135 ]\n",
      "   [0.71518934]\n",
      "   [0.60276335]\n",
      "   [0.5448832 ]\n",
      "   [0.4236548 ]\n",
      "   [0.6458941 ]\n",
      "   [0.4375872 ]\n",
      "   [0.891773  ]\n",
      "   [0.96366274]\n",
      "   [0.3834415 ]]]]\n"
     ]
    }
   ],
   "source": [
    "np.random.seed(0)\n",
    "x = np.array(np.random.rand(batch_size, rows, cols, channels), dtype=np.float32)\n",
    "print(x.shape)\n",
    "print(x)"
   ]
  },
  {
   "cell_type": "markdown",
   "metadata": {},
   "source": [
    "* Conv2DTranspose 출력의 모양은 (output_padding 이 정해졌을 때)\n",
    "\n",
    "\n",
    "$$\n",
    "new\\_rows = ((rows-1) \\times strides[0] + kernel\\_size[0] - 2 \\times padding[0] + output\\_padding[0])\n",
    "$$\n",
    "\n",
    "$$\n",
    "new\\_cols = ((cols - 1) \\times strides[1] + kernel\\_size[1] - 2 \\times padding[1] + output\\_padding[1])\n",
    "$$"
   ]
  },
  {
   "cell_type": "markdown",
   "metadata": {},
   "source": [
    "* Conv2DTranpose 에 이런 저런 크기의 kernel size, strides 를 넣어보면 위 식과 약간 다른 것을 알 수 있음"
   ]
  },
  {
   "cell_type": "code",
   "execution_count": 5,
   "metadata": {},
   "outputs": [],
   "source": [
    "# padding = 'valid'\n",
    "newrows = lambda rows, strides, kernel_size: (rows-1)*strides[1]+kernel_size[1]\n",
    "newcols = lambda cols, strides, kernel_size: (cols-1)*strides[0]+kernel_size[0]"
   ]
  },
  {
   "cell_type": "code",
   "execution_count": 6,
   "metadata": {},
   "outputs": [
    {
     "name": "stdout",
     "output_type": "stream",
     "text": [
      "kernel size 에 따라\n",
      "(1, 1, 10, 1) -> (1, 1, 10, 1)\n",
      "(1, 1, 10, 1) -> (1, 1, 11, 1)\n",
      "(1, 1, 10, 1) -> (1, 1, 12, 1)\n",
      "(1, 1, 10, 1) -> (1, 1, 13, 1)\n",
      "(1, 1, 10, 1) -> (1, 1, 14, 1)\n",
      "strides 에 따라\n",
      "(1, 1, 10, 1) -> (1, 1, 10, 1)\n",
      "(1, 1, 10, 1) -> (1, 1, 19, 1)\n",
      "(1, 1, 10, 1) -> (1, 1, 28, 1)\n",
      "(1, 1, 10, 1) -> (1, 1, 37, 1)\n",
      "(1, 1, 10, 1) -> (1, 1, 46, 1)\n"
     ]
    }
   ],
   "source": [
    "print(\"kernel size 에 따라\")\n",
    "for i in range(1, 6):\n",
    "    strides = (1, 1)\n",
    "    kernel_size = (i, 1)\n",
    "    new_rows = newrows(rows, strides, kernel_size)\n",
    "    new_cols = newcols(cols, strides, kernel_size)\n",
    "    print(f\"({batch_size}, {rows}, {cols}, {channels}) -> ({batch_size}, {new_rows}, {new_cols}, {channels})\")\n",
    "    \n",
    "print(\"strides 에 따라\")\n",
    "for i in range(1, 6):\n",
    "    strides = (i, 1)\n",
    "    kernel_size = (1, 1)\n",
    "    new_rows = newrows(rows, strides, kernel_size)\n",
    "    new_cols = newcols(cols, strides, kernel_size)\n",
    "    print(f\"({batch_size}, {rows}, {cols}, {channels}) -> ({batch_size}, {new_rows}, {new_cols}, {channels})\")"
   ]
  },
  {
   "cell_type": "code",
   "execution_count": 7,
   "metadata": {},
   "outputs": [],
   "source": [
    "data_format = 'channels_first'"
   ]
  },
  {
   "cell_type": "markdown",
   "metadata": {},
   "source": [
    "* TF2 에는 따로 Conv1DTranspose 가 없음\n",
    "* 그래서 Conv2DTranpose 로 써야 함\n",
    "* 필터 개수에 따른 output 모양 확인"
   ]
  },
  {
   "cell_type": "code",
   "execution_count": 8,
   "metadata": {},
   "outputs": [
    {
     "name": "stdout",
     "output_type": "stream",
     "text": [
      "==================================================\n",
      "filters 1\n",
      "shape (1, 1, 10, 1)\n",
      "value tf.Tensor(\n",
      "[[[[0.5488135 ]\n",
      "   [0.71518934]\n",
      "   [0.60276335]\n",
      "   [0.5448832 ]\n",
      "   [0.4236548 ]\n",
      "   [0.6458941 ]\n",
      "   [0.4375872 ]\n",
      "   [0.891773  ]\n",
      "   [0.96366274]\n",
      "   [0.3834415 ]]]], shape=(1, 1, 10, 1), dtype=float32)\n"
     ]
    },
    {
     "data": {
      "image/png": "[encoded data removed]",
      "text/plain": [
       "<matplotlib.figure.Figure at 0x7fdca7e07310>"
      ]
     },
     "metadata": {
      "needs_background": "light"
     },
     "output_type": "display_data"
    },
    {
     "name": "stdout",
     "output_type": "stream",
     "text": [
      "==================================================\n",
      "filters 2\n",
      "shape (1, 2, 10, 1)\n",
      "value tf.Tensor(\n",
      "[[[[0.5488135 ]\n",
      "   [0.71518934]\n",
      "   [0.60276335]\n",
      "   [0.5448832 ]\n",
      "   [0.4236548 ]\n",
      "   [0.6458941 ]\n",
      "   [0.4375872 ]\n",
      "   [0.891773  ]\n",
      "   [0.96366274]\n",
      "   [0.3834415 ]]\n",
      "\n",
      "  [[0.5488135 ]\n",
      "   [0.71518934]\n",
      "   [0.60276335]\n",
      "   [0.5448832 ]\n",
      "   [0.4236548 ]\n",
      "   [0.6458941 ]\n",
      "   [0.4375872 ]\n",
      "   [0.891773  ]\n",
      "   [0.96366274]\n",
      "   [0.3834415 ]]]], shape=(1, 2, 10, 1), dtype=float32)\n"
     ]
    },
    {
     "data": {
      "image/png": "[encoded data removed]",
      "text/plain": [
       "<matplotlib.figure.Figure at 0x7fdc98085f10>"
      ]
     },
     "metadata": {
      "needs_background": "light"
     },
     "output_type": "display_data"
    },
    {
     "name": "stdout",
     "output_type": "stream",
     "text": [
      "==================================================\n",
      "filters 3\n",
      "shape (1, 3, 10, 1)\n",
      "value tf.Tensor(\n",
      "[[[[0.5488135 ]\n",
      "   [0.71518934]\n",
      "   [0.60276335]\n",
      "   [0.5448832 ]\n",
      "   [0.4236548 ]\n",
      "   [0.6458941 ]\n",
      "   [0.4375872 ]\n",
      "   [0.891773  ]\n",
      "   [0.96366274]\n",
      "   [0.3834415 ]]\n",
      "\n",
      "  [[0.5488135 ]\n",
      "   [0.71518934]\n",
      "   [0.60276335]\n",
      "   [0.5448832 ]\n",
      "   [0.4236548 ]\n",
      "   [0.6458941 ]\n",
      "   [0.4375872 ]\n",
      "   [0.891773  ]\n",
      "   [0.96366274]\n",
      "   [0.3834415 ]]\n",
      "\n",
      "  [[0.5488135 ]\n",
      "   [0.71518934]\n",
      "   [0.60276335]\n",
      "   [0.5448832 ]\n",
      "   [0.4236548 ]\n",
      "   [0.6458941 ]\n",
      "   [0.4375872 ]\n",
      "   [0.891773  ]\n",
      "   [0.96366274]\n",
      "   [0.3834415 ]]]], shape=(1, 3, 10, 1), dtype=float32)\n"
     ]
    },
    {
     "data": {
      "image/png": "[encoded data removed]",
      "text/plain": [
       "<matplotlib.figure.Figure at 0x7fdc3865b190>"
      ]
     },
     "metadata": {
      "needs_background": "light"
     },
     "output_type": "display_data"
    },
    {
     "name": "stdout",
     "output_type": "stream",
     "text": [
      "==================================================\n",
      "filters 4\n",
      "shape (1, 4, 10, 1)\n",
      "value tf.Tensor(\n",
      "[[[[0.5488135 ]\n",
      "   [0.71518934]\n",
      "   [0.60276335]\n",
      "   [0.5448832 ]\n",
      "   [0.4236548 ]\n",
      "   [0.6458941 ]\n",
      "   [0.4375872 ]\n",
      "   [0.891773  ]\n",
      "   [0.96366274]\n",
      "   [0.3834415 ]]\n",
      "\n",
      "  [[0.5488135 ]\n",
      "   [0.71518934]\n",
      "   [0.60276335]\n",
      "   [0.5448832 ]\n",
      "   [0.4236548 ]\n",
      "   [0.6458941 ]\n",
      "   [0.4375872 ]\n",
      "   [0.891773  ]\n",
      "   [0.96366274]\n",
      "   [0.3834415 ]]\n",
      "\n",
      "  [[0.5488135 ]\n",
      "   [0.71518934]\n",
      "   [0.60276335]\n",
      "   [0.5448832 ]\n",
      "   [0.4236548 ]\n",
      "   [0.6458941 ]\n",
      "   [0.4375872 ]\n",
      "   [0.891773  ]\n",
      "   [0.96366274]\n",
      "   [0.3834415 ]]\n",
      "\n",
      "  [[0.5488135 ]\n",
      "   [0.71518934]\n",
      "   [0.60276335]\n",
      "   [0.5448832 ]\n",
      "   [0.4236548 ]\n",
      "   [0.6458941 ]\n",
      "   [0.4375872 ]\n",
      "   [0.891773  ]\n",
      "   [0.96366274]\n",
      "   [0.3834415 ]]]], shape=(1, 4, 10, 1), dtype=float32)\n"
     ]
    },
    {
     "data": {
      "image/png": "[encoded data removed]",
      "text/plain": [
       "<matplotlib.figure.Figure at 0x7fdc385639d0>"
      ]
     },
     "metadata": {
      "needs_background": "light"
     },
     "output_type": "display_data"
    },
    {
     "name": "stdout",
     "output_type": "stream",
     "text": [
      "==================================================\n",
      "filters 5\n",
      "shape (1, 5, 10, 1)\n",
      "value tf.Tensor(\n",
      "[[[[0.5488135 ]\n",
      "   [0.71518934]\n",
      "   [0.60276335]\n",
      "   [0.5448832 ]\n",
      "   [0.4236548 ]\n",
      "   [0.6458941 ]\n",
      "   [0.4375872 ]\n",
      "   [0.891773  ]\n",
      "   [0.96366274]\n",
      "   [0.3834415 ]]\n",
      "\n",
      "  [[0.5488135 ]\n",
      "   [0.71518934]\n",
      "   [0.60276335]\n",
      "   [0.5448832 ]\n",
      "   [0.4236548 ]\n",
      "   [0.6458941 ]\n",
      "   [0.4375872 ]\n",
      "   [0.891773  ]\n",
      "   [0.96366274]\n",
      "   [0.3834415 ]]\n",
      "\n",
      "  [[0.5488135 ]\n",
      "   [0.71518934]\n",
      "   [0.60276335]\n",
      "   [0.5448832 ]\n",
      "   [0.4236548 ]\n",
      "   [0.6458941 ]\n",
      "   [0.4375872 ]\n",
      "   [0.891773  ]\n",
      "   [0.96366274]\n",
      "   [0.3834415 ]]\n",
      "\n",
      "  [[0.5488135 ]\n",
      "   [0.71518934]\n",
      "   [0.60276335]\n",
      "   [0.5448832 ]\n",
      "   [0.4236548 ]\n",
      "   [0.6458941 ]\n",
      "   [0.4375872 ]\n",
      "   [0.891773  ]\n",
      "   [0.96366274]\n",
      "   [0.3834415 ]]\n",
      "\n",
      "  [[0.5488135 ]\n",
      "   [0.71518934]\n",
      "   [0.60276335]\n",
      "   [0.5448832 ]\n",
      "   [0.4236548 ]\n",
      "   [0.6458941 ]\n",
      "   [0.4375872 ]\n",
      "   [0.891773  ]\n",
      "   [0.96366274]\n",
      "   [0.3834415 ]]]], shape=(1, 5, 10, 1), dtype=float32)\n"
     ]
    },
    {
     "data": {
      "image/png": "[encoded data removed]",
      "text/plain": [
       "<matplotlib.figure.Figure at 0x7fdc3860cf90>"
      ]
     },
     "metadata": {
      "needs_background": "light"
     },
     "output_type": "display_data"
    }
   ],
   "source": [
    "for i in range(1, 6):\n",
    "    print('='*50)\n",
    "    print('filters', i)\n",
    "    _x = layers.Conv2DTranspose(filters=i, kernel_size=(1, 1), strides=(1, 1), kernel_initializer='ones', data_format=data_format)(x)\n",
    "    print('shape', _x.shape)\n",
    "    print('value', _x)\n",
    "    \n",
    "    plt.figure(figsize=(5, 1), dpi=80)\n",
    "    plt.plot(np.squeeze(x), linestyle='None', marker='o', label='original')\n",
    "    plt.plot(np.squeeze(_x), linestyle='None', marker='o', alpha=.7)\n",
    "    plt.legend()\n",
    "    plt.show()"
   ]
  },
  {
   "cell_type": "markdown",
   "metadata": {},
   "source": [
    "* 커널 크기에 따른 output 확인"
   ]
  },
  {
   "cell_type": "code",
   "execution_count": 9,
   "metadata": {},
   "outputs": [
    {
     "name": "stdout",
     "output_type": "stream",
     "text": [
      "==================================================\n",
      "kernel_size 1\n",
      "shape (1, 1, 10, 1)\n",
      "value tf.Tensor(\n",
      "[[[[0.5488135 ]\n",
      "   [0.71518934]\n",
      "   [0.60276335]\n",
      "   [0.5448832 ]\n",
      "   [0.4236548 ]\n",
      "   [0.6458941 ]\n",
      "   [0.4375872 ]\n",
      "   [0.891773  ]\n",
      "   [0.96366274]\n",
      "   [0.3834415 ]]]], shape=(1, 1, 10, 1), dtype=float32)\n"
     ]
    },
    {
     "data": {
      "image/png": "[encoded data removed]",
      "text/plain": [
       "<matplotlib.figure.Figure at 0x7fdc38433bd0>"
      ]
     },
     "metadata": {
      "needs_background": "light"
     },
     "output_type": "display_data"
    },
    {
     "name": "stdout",
     "output_type": "stream",
     "text": [
      "==================================================\n",
      "kernel_size 2\n",
      "shape (1, 1, 11, 1)\n",
      "value tf.Tensor(\n",
      "[[[[0.5488135]\n",
      "   [1.2640028]\n",
      "   [1.3179526]\n",
      "   [1.1476465]\n",
      "   [0.968538 ]\n",
      "   [1.0695488]\n",
      "   [1.0834813]\n",
      "   [1.3293602]\n",
      "   [1.8554357]\n",
      "   [1.3471043]\n",
      "   [0.3834415]]]], shape=(1, 1, 11, 1), dtype=float32)\n"
     ]
    },
    {
     "data": {
      "image/png": "[encoded data removed]",
      "text/plain": [
       "<matplotlib.figure.Figure at 0x7fdc3860c210>"
      ]
     },
     "metadata": {
      "needs_background": "light"
     },
     "output_type": "display_data"
    },
    {
     "name": "stdout",
     "output_type": "stream",
     "text": [
      "==================================================\n",
      "kernel_size 3\n",
      "shape (1, 1, 12, 1)\n",
      "value tf.Tensor(\n",
      "[[[[0.5488135]\n",
      "   [1.2640028]\n",
      "   [1.8667662]\n",
      "   [1.8628359]\n",
      "   [1.5713013]\n",
      "   [1.6144321]\n",
      "   [1.5071361]\n",
      "   [1.9752543]\n",
      "   [2.2930229]\n",
      "   [2.2388773]\n",
      "   [1.3471043]\n",
      "   [0.3834415]]]], shape=(1, 1, 12, 1), dtype=float32)\n"
     ]
    },
    {
     "data": {
      "image/png": "[encoded data removed]",
      "text/plain": [
       "<matplotlib.figure.Figure at 0x7fdc38537b90>"
      ]
     },
     "metadata": {
      "needs_background": "light"
     },
     "output_type": "display_data"
    },
    {
     "name": "stdout",
     "output_type": "stream",
     "text": [
      "==================================================\n",
      "kernel_size 4\n",
      "shape (1, 1, 13, 1)\n",
      "value tf.Tensor(\n",
      "[[[[0.5488135]\n",
      "   [1.2640028]\n",
      "   [1.8667662]\n",
      "   [2.4116495]\n",
      "   [2.2864907]\n",
      "   [2.2171955]\n",
      "   [2.0520194]\n",
      "   [2.398909 ]\n",
      "   [2.938917 ]\n",
      "   [2.6764646]\n",
      "   [2.2388773]\n",
      "   [1.3471043]\n",
      "   [0.3834415]]]], shape=(1, 1, 13, 1), dtype=float32)\n"
     ]
    },
    {
     "data": {
      "image/png": "[encoded data removed]",
      "text/plain": [
       "<matplotlib.figure.Figure at 0x7fdc9bd78750>"
      ]
     },
     "metadata": {
      "needs_background": "light"
     },
     "output_type": "display_data"
    },
    {
     "name": "stdout",
     "output_type": "stream",
     "text": [
      "==================================================\n",
      "kernel_size 5\n",
      "shape (1, 1, 14, 1)\n",
      "value tf.Tensor(\n",
      "[[[[0.5488135]\n",
      "   [1.2640028]\n",
      "   [1.8667662]\n",
      "   [2.4116495]\n",
      "   [2.8353043]\n",
      "   [2.932385 ]\n",
      "   [2.6547828]\n",
      "   [2.9437923]\n",
      "   [3.3625717]\n",
      "   [3.3223586]\n",
      "   [2.6764646]\n",
      "   [2.2388773]\n",
      "   [1.3471043]\n",
      "   [0.3834415]]]], shape=(1, 1, 14, 1), dtype=float32)\n"
     ]
    },
    {
     "data": {
      "image/png": "[encoded data removed]",
      "text/plain": [
       "<matplotlib.figure.Figure at 0x7fdc383ea550>"
      ]
     },
     "metadata": {
      "needs_background": "light"
     },
     "output_type": "display_data"
    }
   ],
   "source": [
    "for i in range(1, 6):\n",
    "    print('='*50)\n",
    "    print('kernel_size', i)\n",
    "    _x = layers.Conv2DTranspose(filters=1, kernel_size=(i, 1), strides=(1, 1), kernel_initializer='ones', data_format=data_format)(x)\n",
    "    print('shape', _x.shape)\n",
    "    print('value', _x)\n",
    "    \n",
    "    plt.figure(figsize=(5, 1), dpi=80)\n",
    "    plt.plot(np.squeeze(x), linestyle='None', marker='o', label='original')\n",
    "    plt.plot(np.squeeze(_x), linestyle='None', marker='o', alpha=.7)\n",
    "    plt.legend()\n",
    "    plt.show()"
   ]
  },
  {
   "cell_type": "markdown",
   "metadata": {},
   "source": [
    "* strides 크기에 따른 output 확인"
   ]
  },
  {
   "cell_type": "code",
   "execution_count": 10,
   "metadata": {},
   "outputs": [
    {
     "name": "stdout",
     "output_type": "stream",
     "text": [
      "==================================================\n",
      "strides 1\n",
      "shape (1, 1, 10, 1)\n",
      "value tf.Tensor(\n",
      "[[[[0.5488135 ]\n",
      "   [0.71518934]\n",
      "   [0.60276335]\n",
      "   [0.5448832 ]\n",
      "   [0.4236548 ]\n",
      "   [0.6458941 ]\n",
      "   [0.4375872 ]\n",
      "   [0.891773  ]\n",
      "   [0.96366274]\n",
      "   [0.3834415 ]]]], shape=(1, 1, 10, 1), dtype=float32)\n"
     ]
    },
    {
     "data": {
      "image/png": "[encoded data removed]",
      "text/plain": [
       "<matplotlib.figure.Figure at 0x7fdca7c86a50>"
      ]
     },
     "metadata": {
      "needs_background": "light"
     },
     "output_type": "display_data"
    },
    {
     "name": "stdout",
     "output_type": "stream",
     "text": [
      "==================================================\n",
      "strides 2\n",
      "shape (1, 1, 20, 1)\n",
      "value tf.Tensor(\n",
      "[[[[0.5488135 ]\n",
      "   [0.        ]\n",
      "   [0.71518934]\n",
      "   [0.        ]\n",
      "   [0.60276335]\n",
      "   [0.        ]\n",
      "   [0.5448832 ]\n",
      "   [0.        ]\n",
      "   [0.4236548 ]\n",
      "   [0.        ]\n",
      "   [0.6458941 ]\n",
      "   [0.        ]\n",
      "   [0.4375872 ]\n",
      "   [0.        ]\n",
      "   [0.891773  ]\n",
      "   [0.        ]\n",
      "   [0.96366274]\n",
      "   [0.        ]\n",
      "   [0.3834415 ]\n",
      "   [0.        ]]]], shape=(1, 1, 20, 1), dtype=float32)\n"
     ]
    },
    {
     "data": {
      "image/png": "[encoded data removed]",
      "text/plain": [
       "<matplotlib.figure.Figure at 0x7fdc3826c950>"
      ]
     },
     "metadata": {
      "needs_background": "light"
     },
     "output_type": "display_data"
    },
    {
     "name": "stdout",
     "output_type": "stream",
     "text": [
      "==================================================\n",
      "strides 3\n",
      "shape (1, 1, 30, 1)\n",
      "value tf.Tensor(\n",
      "[[[[0.5488135 ]\n",
      "   [0.        ]\n",
      "   [0.        ]\n",
      "   [0.71518934]\n",
      "   [0.        ]\n",
      "   [0.        ]\n",
      "   [0.60276335]\n",
      "   [0.        ]\n",
      "   [0.        ]\n",
      "   [0.5448832 ]\n",
      "   [0.        ]\n",
      "   [0.        ]\n",
      "   [0.4236548 ]\n",
      "   [0.        ]\n",
      "   [0.        ]\n",
      "   [0.6458941 ]\n",
      "   [0.        ]\n",
      "   [0.        ]\n",
      "   [0.4375872 ]\n",
      "   [0.        ]\n",
      "   [0.        ]\n",
      "   [0.891773  ]\n",
      "   [0.        ]\n",
      "   [0.        ]\n",
      "   [0.96366274]\n",
      "   [0.        ]\n",
      "   [0.        ]\n",
      "   [0.3834415 ]\n",
      "   [0.        ]\n",
      "   [0.        ]]]], shape=(1, 1, 30, 1), dtype=float32)\n"
     ]
    },
    {
     "data": {
      "image/png": "[encoded data removed]",
      "text/plain": [
       "<matplotlib.figure.Figure at 0x7fdc383e3e90>"
      ]
     },
     "metadata": {
      "needs_background": "light"
     },
     "output_type": "display_data"
    },
    {
     "name": "stdout",
     "output_type": "stream",
     "text": [
      "==================================================\n",
      "strides 4\n",
      "shape (1, 1, 40, 1)\n",
      "value tf.Tensor(\n",
      "[[[[0.5488135 ]\n",
      "   [0.        ]\n",
      "   [0.        ]\n",
      "   [0.        ]\n",
      "   [0.71518934]\n",
      "   [0.        ]\n",
      "   [0.        ]\n",
      "   [0.        ]\n",
      "   [0.60276335]\n",
      "   [0.        ]\n",
      "   [0.        ]\n",
      "   [0.        ]\n",
      "   [0.5448832 ]\n",
      "   [0.        ]\n",
      "   [0.        ]\n",
      "   [0.        ]\n",
      "   [0.4236548 ]\n",
      "   [0.        ]\n",
      "   [0.        ]\n",
      "   [0.        ]\n",
      "   [0.6458941 ]\n",
      "   [0.        ]\n",
      "   [0.        ]\n",
      "   [0.        ]\n",
      "   [0.4375872 ]\n",
      "   [0.        ]\n",
      "   [0.        ]\n",
      "   [0.        ]\n",
      "   [0.891773  ]\n",
      "   [0.        ]\n",
      "   [0.        ]\n",
      "   [0.        ]\n",
      "   [0.96366274]\n",
      "   [0.        ]\n",
      "   [0.        ]\n",
      "   [0.        ]\n",
      "   [0.3834415 ]\n",
      "   [0.        ]\n",
      "   [0.        ]\n",
      "   [0.        ]]]], shape=(1, 1, 40, 1), dtype=float32)\n"
     ]
    },
    {
     "data": {
      "image/png": "[encoded data removed]",
      "text/plain": [
       "<matplotlib.figure.Figure at 0x7fdc3821d3d0>"
      ]
     },
     "metadata": {
      "needs_background": "light"
     },
     "output_type": "display_data"
    },
    {
     "name": "stdout",
     "output_type": "stream",
     "text": [
      "==================================================\n",
      "strides 5\n",
      "shape (1, 1, 50, 1)\n",
      "value tf.Tensor(\n",
      "[[[[0.5488135 ]\n",
      "   [0.        ]\n",
      "   [0.        ]\n",
      "   [0.        ]\n",
      "   [0.        ]\n",
      "   [0.71518934]\n",
      "   [0.        ]\n",
      "   [0.        ]\n",
      "   [0.        ]\n",
      "   [0.        ]\n",
      "   [0.60276335]\n",
      "   [0.        ]\n",
      "   [0.        ]\n",
      "   [0.        ]\n",
      "   [0.        ]\n",
      "   [0.5448832 ]\n",
      "   [0.        ]\n",
      "   [0.        ]\n",
      "   [0.        ]\n",
      "   [0.        ]\n",
      "   [0.4236548 ]\n",
      "   [0.        ]\n",
      "   [0.        ]\n",
      "   [0.        ]\n",
      "   [0.        ]\n",
      "   [0.6458941 ]\n",
      "   [0.        ]\n",
      "   [0.        ]\n",
      "   [0.        ]\n",
      "   [0.        ]\n",
      "   [0.4375872 ]\n",
      "   [0.        ]\n",
      "   [0.        ]\n",
      "   [0.        ]\n",
      "   [0.        ]\n",
      "   [0.891773  ]\n",
      "   [0.        ]\n",
      "   [0.        ]\n",
      "   [0.        ]\n",
      "   [0.        ]\n",
      "   [0.96366274]\n",
      "   [0.        ]\n",
      "   [0.        ]\n",
      "   [0.        ]\n",
      "   [0.        ]\n",
      "   [0.3834415 ]\n",
      "   [0.        ]\n",
      "   [0.        ]\n",
      "   [0.        ]\n",
      "   [0.        ]]]], shape=(1, 1, 50, 1), dtype=float32)\n"
     ]
    },
    {
     "data": {
      "image/png": "[encoded data removed]",
      "text/plain": [
       "<matplotlib.figure.Figure at 0x7fdc383868d0>"
      ]
     },
     "metadata": {
      "needs_background": "light"
     },
     "output_type": "display_data"
    }
   ],
   "source": [
    "for i in range(1, 6):\n",
    "    print('='*50)\n",
    "    print('strides', i)\n",
    "    _x = layers.Conv2DTranspose(filters=1, kernel_size=(1, 1), strides=(i, 1), kernel_initializer='ones', data_format=data_format)(x)\n",
    "    print('shape', _x.shape)\n",
    "    print('value', _x)\n",
    "    \n",
    "    plt.figure(figsize=(5, 1), dpi=80)\n",
    "    plt.plot(np.squeeze(x), linestyle='None', marker='o', label='original')\n",
    "    plt.plot(np.squeeze(_x), linestyle='None', marker='o', alpha=.7)\n",
    "    plt.legend()\n",
    "    plt.show()"
   ]
  }
 ],
 "metadata": {
  "kernelspec": {
   "display_name": "Python 3",
   "language": "python",
   "name": "python3"
  },
  "language_info": {
   "codemirror_mode": {
    "name": "ipython",
    "version": 3
   },
   "file_extension": ".py",
   "mimetype": "text/x-python",
   "name": "python",
   "nbconvert_exporter": "python",
   "pygments_lexer": "ipython3",
   "version": "3.7.7"
  }
 },
 "nbformat": 4,
 "nbformat_minor": 4
}
