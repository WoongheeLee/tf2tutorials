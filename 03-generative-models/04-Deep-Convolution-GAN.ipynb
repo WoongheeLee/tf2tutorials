{
 "cells": [
  {
   "cell_type": "code",
   "execution_count": 1,
   "metadata": {},
   "outputs": [],
   "source": [
    "import os\n",
    "os.environ[\"CUDA_VISIBLE_DEVICES\"] = \"2\""
   ]
  },
  {
   "cell_type": "code",
   "execution_count": 2,
   "metadata": {},
   "outputs": [],
   "source": [
    "import numpy as mp\n",
    "import matplotlib.pyplot as plt\n",
    "import tensorflow as tf\n",
    "from tensorflow.keras import layers, models, optimizers, losses, metrics, datasets"
   ]
  },
  {
   "cell_type": "code",
   "execution_count": 3,
   "metadata": {},
   "outputs": [],
   "source": [
    "EPOCHS = 50\n",
    "BATCH_SIZE = 128"
   ]
  },
  {
   "cell_type": "code",
   "execution_count": 4,
   "metadata": {},
   "outputs": [],
   "source": [
    "trainset, testset = datasets.mnist.load_data()"
   ]
  },
  {
   "cell_type": "code",
   "execution_count": 5,
   "metadata": {},
   "outputs": [],
   "source": [
    "trainloader = tf.data.Dataset.from_tensor_slices(trainset).batch(BATCH_SIZE).shuffle(1024)\n",
    "testloader = tf.data.Dataset.from_tensor_slices(testset).batch(BATCH_SIZE)"
   ]
  },
  {
   "cell_type": "code",
   "execution_count": 6,
   "metadata": {},
   "outputs": [],
   "source": [
    "class DeepConvolutionGAN(models.Model):\n",
    "    \n",
    "    def __init__(self):\n",
    "        super(DeepConvolutionGAN, self).__init__()\n",
    "        \n",
    "        self.generator = models.Sequential([\n",
    "            layers.Conv2DTranspose(32, (3, 3), strides=(1, 1), padding=\"SAME\", output_padding=0),\n",
    "            layers.BatchNormalization(),\n",
    "            layers.Activation(tf.nn.relu),\n",
    "            \n",
    "            layers.Conv2DTranspose(64, (3, 3), strides=(2, 2), padding=\"SAME\", output_padding=1),\n",
    "            layers.BatchNormalization(),\n",
    "            layers.Activation(tf.nn.relu),\n",
    "            \n",
    "            layers.Conv2DTranspose(64, (5, 5), strides=(1, 1), padding=\"SAME\", output_padding=0),\n",
    "            layers.BatchNormalization(),\n",
    "            layers.Activation(tf.nn.relu),\n",
    "            \n",
    "            layers.Conv2DTranspose(32, (5, 5), strides=(2, 2), padding=\"SAME\", output_padding=1),\n",
    "            layers.BatchNormalization(),\n",
    "            layers.Activation(tf.nn.relu),\n",
    "            \n",
    "            layers.Conv2DTranspose(1, (5, 5), strides=(1, 1), padding=\"SAME\", output_padding=0),\n",
    "            layers.Activation(tf.nn.sigmoid),\n",
    "        ])\n",
    "        \n",
    "        self.discriminator = models.Sequential([\n",
    "            layers.Conv2D(32, (3, 3), strides=(1, 1), padding=\"SAME\"),\n",
    "            layers.BatchNormalization(),\n",
    "            layers.Activation(tf.nn.leaky_relu),\n",
    "            \n",
    "            layers.Conv2D(32, (3, 3), strides=(2, 2), padding=\"SAME\"),\n",
    "            layers.BatchNormalization(),\n",
    "            layers.Activation(tf.nn.leaky_relu),\n",
    "            \n",
    "            layers.Conv2D(64, (3, 3), strides=(1, 1), padding=\"SAME\"),\n",
    "            layers.BatchNormalization(),\n",
    "            layers.Activation(tf.nn.leaky_relu),\n",
    "            \n",
    "            layers.Conv2D(64, (3, 3), strides=(2, 2), padding=\"SAME\"),\n",
    "            layers.BatchNormalization(),\n",
    "            layers.Activation(tf.nn.leaky_relu),\n",
    "            \n",
    "            layers.Conv2D(32, (3, 3), strides=(2, 2), padding=\"SAME\"),\n",
    "            layers.BatchNormalization(),\n",
    "            layers.Activation(tf.nn.leaky_relu),\n",
    "            \n",
    "            layers.Conv2D(1, (3, 3), strides=(2, 2), padding=\"SAME\"),\n",
    "            layers.Activation(tf.nn.sigmoid),\n",
    "        ])\n",
    "        \n",
    "        self.generator_training = True\n",
    "        self.discriminator_training = False\n",
    "        \n",
    "    def set_mode(self, mode):\n",
    "        if mode == \"generator\":\n",
    "            self.generator_training = True\n",
    "            self.discriminator_training = False\n",
    "        elif mode == \"discriminator\":\n",
    "            self.generator_training = False\n",
    "            self.discriminator_training = True\n",
    "        \n",
    "    def call(self, x=None, training=False):\n",
    "        if x is None:\n",
    "            n = 1\n",
    "        else:\n",
    "            n = tf.shape(x)[0]\n",
    "            \n",
    "        noise = tf.random.normal((n, 7, 7, 32))\n",
    "        \n",
    "        x_generated = self.generator(noise, training=training & self.generator_training)\n",
    "        \n",
    "        if training is True:\n",
    "            d_real = self.discriminator(x, training = self.discriminator_training)\n",
    "            d_fake = self.discriminator(x_generated, training = self.discriminator_training)\n",
    "            \n",
    "            return x_generated, d_real, d_fake\n",
    "        \n",
    "        return x_generated"
   ]
  },
  {
   "cell_type": "code",
   "execution_count": 7,
   "metadata": {},
   "outputs": [],
   "source": [
    "model = DeepConvolutionGAN()\n",
    "bce_criterion = losses.BinaryCrossentropy()\n",
    "\n",
    "optimizer_gen = optimizers.RMSprop(learning_rate=1e-3)\n",
    "optimizer_dis = optimizers.RMSprop(learning_rate=1e-4)\n",
    "\n",
    "train_gen_loss_obj = metrics.Mean()\n",
    "train_dis_loss_obj = metrics.Mean()"
   ]
  },
  {
   "cell_type": "code",
   "execution_count": 8,
   "metadata": {},
   "outputs": [],
   "source": [
    "def train_step(x):\n",
    "    \n",
    "    n = tf.shape(x)[0]\n",
    "    \n",
    "    with tf.GradientTape(persistent=True) as tape:\n",
    "        x_generated, d_real, d_fake = model(x, training=True)\n",
    "        loss_gen = bce_criterion(tf.ones((n,)), d_fake)\n",
    "        loss_dis = bce_criterion(tf.ones((n,)), d_real) + bce_criterion(tf.zeros((n,)), d_fake)\n",
    "        \n",
    "    grads_gen = tape.gradient(loss_gen, model.generator.trainable_variables)\n",
    "    optimizer_gen.apply_gradients(zip(grads_gen, model.generator.trainable_variables))\n",
    "    \n",
    "    grads_dis = tape.gradient(loss_dis, model.discriminator.trainable_variables)\n",
    "    optimizer_dis.apply_gradients(zip(grads_dis, model.discriminator.trainable_variables))\n",
    "    \n",
    "    train_gen_loss_obj.update_state(loss_gen)\n",
    "    train_dis_loss_obj.update_state(loss_dis)"
   ]
  },
  {
   "cell_type": "code",
   "execution_count": 9,
   "metadata": {},
   "outputs": [],
   "source": [
    "def plot():\n",
    "    \n",
    "    plt.figure(figsize=(10, 2))\n",
    "    \n",
    "    for i in range(5):\n",
    "        x_generated = model(None, training=False)\n",
    "        img = x_generated.numpy().squeeze()\n",
    "        \n",
    "        plt.subplot(1, 5, i+1)\n",
    "        plt.imshow(img, cmap=\"gray\")\n",
    "        \n",
    "    plt.show()"
   ]
  },
  {
   "cell_type": "code",
   "execution_count": 10,
   "metadata": {},
   "outputs": [],
   "source": [
    "def train():\n",
    "    for e in range(EPOCHS):\n",
    "        \n",
    "        for x, y in trainloader:\n",
    "            x = tf.expand_dims(x, -1)\n",
    "            x = tf.cast(x, dtype=tf.float32)/256\n",
    "            \n",
    "            train_step(x)\n",
    "            \n",
    "        train_loss_gen = train_gen_loss_obj.result()\n",
    "        train_loss_dis = train_dis_loss_obj.result()\n",
    "            \n",
    "        if e == 0 or (e + 1)%10 == 0:\n",
    "            print(f\"Epochs {e+1}/{EPOCHS}, generator loss: {train_loss_gen:.6f}, discriminator loss: {train_loss_dis}\")\n",
    "            plot()"
   ]
  },
  {
   "cell_type": "code",
   "execution_count": 11,
   "metadata": {},
   "outputs": [
    {
     "name": "stdout",
     "output_type": "stream",
     "text": [
      "Epochs 1/50, generator loss: 0.696828, discriminator loss: 1.3757811784744263\n"
     ]
    },
    {
     "data": {
      "image/png": "[encoded data removed]",
      "text/plain": [
       "<Figure size 720x144 with 5 Axes>"
      ]
     },
     "metadata": {
      "needs_background": "light"
     },
     "output_type": "display_data"
    },
    {
     "name": "stdout",
     "output_type": "stream",
     "text": [
      "Epochs 10/50, generator loss: 0.736383, discriminator loss: 1.3451746702194214\n"
     ]
    },
    {
     "data": {
      "image/png": "[encoded data removed]",
      "text/plain": [
       "<Figure size 720x144 with 5 Axes>"
      ]
     },
     "metadata": {
      "needs_background": "light"
     },
     "output_type": "display_data"
    },
    {
     "name": "stdout",
     "output_type": "stream",
     "text": [
      "Epochs 20/50, generator loss: 0.771201, discriminator loss: 1.319793939590454\n"
     ]
    },
    {
     "data": {
      "image/png": "[encoded data removed]",
      "text/plain": [
       "<Figure size 720x144 with 5 Axes>"
      ]
     },
     "metadata": {
      "needs_background": "light"
     },
     "output_type": "display_data"
    },
    {
     "name": "stdout",
     "output_type": "stream",
     "text": [
      "Epochs 30/50, generator loss: 0.809945, discriminator loss: 1.2926108837127686\n"
     ]
    },
    {
     "data": {
      "image/png": "[encoded data removed]",
      "text/plain": [
       "<Figure size 720x144 with 5 Axes>"
      ]
     },
     "metadata": {
      "needs_background": "light"
     },
     "output_type": "display_data"
    },
    {
     "name": "stdout",
     "output_type": "stream",
     "text": [
      "Epochs 40/50, generator loss: 0.851903, discriminator loss: 1.2652757167816162\n"
     ]
    },
    {
     "data": {
      "image/png": "[encoded data removed]",
      "text/plain": [
       "<Figure size 720x144 with 5 Axes>"
      ]
     },
     "metadata": {
      "needs_background": "light"
     },
     "output_type": "display_data"
    },
    {
     "name": "stdout",
     "output_type": "stream",
     "text": [
      "Epochs 50/50, generator loss: 0.896296, discriminator loss: 1.2380479574203491\n"
     ]
    },
    {
     "data": {
      "image/png": "[encoded data removed]",
      "text/plain": [
       "<Figure size 720x144 with 5 Axes>"
      ]
     },
     "metadata": {
      "needs_background": "light"
     },
     "output_type": "display_data"
    }
   ],
   "source": [
    "train()"
   ]
  },
  {
   "cell_type": "code",
   "execution_count": null,
   "metadata": {},
   "outputs": [],
   "source": []
  }
 ],
 "metadata": {
  "kernelspec": {
   "display_name": "Python3 (Tensorflow 2)",
   "language": "python",
   "name": "tf2"
  },
  "language_info": {
   "codemirror_mode": {
    "name": "ipython",
    "version": 3
   },
   "file_extension": ".py",
   "mimetype": "text/x-python",
   "name": "python",
   "nbconvert_exporter": "python",
   "pygments_lexer": "ipython3",
   "version": "3.7.6"
  }
 },
 "nbformat": 4,
 "nbformat_minor": 4
}
